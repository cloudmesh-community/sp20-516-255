{
 "cells": [
  {
   "cell_type": "markdown",
   "metadata": {},
   "source": [
    "## AWS AI Service :"
   ]
  },
  {
   "cell_type": "markdown",
   "metadata": {},
   "source": [
    "Forecast Open API Service Features\n",
    "\n",
    "* Upload the data file to ./cloudmesh/upload-file location\n",
    "* Upload the json schema file to ./cloudmesh/upload-file location\n",
    "* Validate the data for missing and less than 0 values\n",
    "* Split the dataset into Train and test by specifying split percentge.\n",
    "* Provide list of Multi Cloud supported for Timeseries Forecasting\n",
    "* Initialize the cloud service\n",
    "* Create a Dataset Group, a Target Time Series Dataset, Import data into Forecast from AWS Storage S3,  Create a Predictor, Generate Forecast\n",
    "* Query the Forecast\n",
    "* Compare Forecast"
   ]
  },
  {
   "cell_type": "markdown",
   "metadata": {},
   "source": [
    "### Pre-requsites"
   ]
  },
  {
   "cell_type": "markdown",
   "metadata": {},
   "source": [
    "Ensure requirements listed at are met before starting the experiment https://github.com/cloudmesh-community/sp20-516-255/blob/master/Cloudmesh-OpenAPI/README.md\n",
    "\n",
    "Once environment is available, execute below API commands and in order mentioned in the notebook."
   ]
  },
  {
   "cell_type": "markdown",
   "metadata": {},
   "source": [
    "####  List the Time Series forecasting services supported"
   ]
  },
  {
   "cell_type": "code",
   "execution_count": 161,
   "metadata": {},
   "outputs": [
    {
     "name": "stdout",
     "output_type": "stream",
     "text": [
      "{\n",
      "  \"model\": \"Supported Time Series Forecast Services AWS : Forecast \"\n",
      "}\n"
     ]
    }
   ],
   "source": [
    "!curl --silent http://localhost:8080/cloudmesh/forecast"
   ]
  },
  {
   "cell_type": "markdown",
   "metadata": {},
   "source": [
    "!curl http://localhost:8080/cloudmesh/forecast"
   ]
  },
  {
   "cell_type": "markdown",
   "metadata": {},
   "source": [
    "####  Upload the data file to be forecasted"
   ]
  },
  {
   "cell_type": "code",
   "execution_count": 166,
   "metadata": {},
   "outputs": [
    {
     "name": "stdout",
     "output_type": "stream",
     "text": [
      "time_series_combined.csv uploaded successfully\n"
     ]
    }
   ],
   "source": [
    "!curl --silent --show-error \"http://localhost:8080/cloudmesh/forecast/upload\" -F \"upload=@C:\\\\Users\\\\prafu\\\\data\\\\time_series_combined.csv\""
   ]
  },
  {
   "cell_type": "markdown",
   "metadata": {},
   "source": [
    "####  Upload the JSON Schema for the data, ensure three mandatory columns \n",
    "\n",
    "* item_id ( column for which prediction need to be generated)\n",
    "* target_value ( the atrribute that need to be predicted) \n",
    "* timestamp (date or time in timstamp format)"
   ]
  },
  {
   "cell_type": "code",
   "execution_count": 168,
   "metadata": {
    "scrolled": true
   },
   "outputs": [
    {
     "name": "stdout",
     "output_type": "stream",
     "text": [
      "schema.json uploaded successfully\n"
     ]
    }
   ],
   "source": [
    "!curl --silent --show-error \"http://localhost:8080/cloudmesh/forecast/upload\" -F \"upload=@C:\\\\Users\\\\prafu\\\\data\\\\schema.json\""
   ]
  },
  {
   "cell_type": "markdown",
   "metadata": {},
   "source": [
    "#### Validate the data file"
   ]
  },
  {
   "cell_type": "code",
   "execution_count": 169,
   "metadata": {},
   "outputs": [
    {
     "name": "stdout",
     "output_type": "stream",
     "text": [
      "time_series_combined.csv validated successfully\n"
     ]
    }
   ],
   "source": [
    "!curl --silent --show-error \"http://localhost:8080/cloudmesh/forecast/validate_data\" -F \"upload=@C:\\\\Users\\\\prafu\\\\.cloudmesh\\\\upload-file\\\\time_series_combined.csv\""
   ]
  },
  {
   "cell_type": "markdown",
   "metadata": {},
   "source": [
    "#### Split data \n",
    "\n",
    "Split the data into training and validation dataset. Forecast service predictor will further subdivide the dataset into test and training based on BackTestWindowOffset. Please refer [Predictor Performance](https://docs.aws.amazon.com/forecast/latest/dg/metrics.html) for more details."
   ]
  },
  {
   "cell_type": "code",
   "execution_count": 172,
   "metadata": {},
   "outputs": [
    {
     "name": "stdout",
     "output_type": "stream",
     "text": [
      "\"Data split successfully\"\n"
     ]
    }
   ],
   "source": [
    "!curl --silent --show-error http://localhost:8080/cloudmesh/forecast/split_data?split_pct=30"
   ]
  },
  {
   "cell_type": "markdown",
   "metadata": {},
   "source": [
    "####  Initialize the cloud service"
   ]
  },
  {
   "cell_type": "code",
   "execution_count": 174,
   "metadata": {},
   "outputs": [
    {
     "name": "stdout",
     "output_type": "stream",
     "text": [
      "{\n",
      "  \"model\": \"AWS AI Service initialized successfully\"\n",
      "}\n"
     ]
    }
   ],
   "source": [
    "!curl --silent --show-error \"http://localhost:8080/cloudmesh/forecast/aws\""
   ]
  },
  {
   "cell_type": "markdown",
   "metadata": {},
   "source": [
    "#### Step7 - Generate the Forecast"
   ]
  },
  {
   "cell_type": "code",
   "execution_count": 32,
   "metadata": {},
   "outputs": [
    {
     "name": "stdout",
     "output_type": "stream",
     "text": [
      "\"Forecast generated successfully\"\n"
     ]
    },
    {
     "name": "stderr",
     "output_type": "stream",
     "text": [
      "  % Total    % Received % Xferd  Average Speed   Time    Time     Time  Current\n",
      "                                 Dload  Upload   Total   Spent    Left  Speed\n",
      "\n",
      "  0     0    0     0    0     0      0      0 --:--:-- --:--:-- --:--:--     0\n",
      "  0     0    0     0    0     0      0      0 --:--:--  0:00:01 --:--:--     0\n",
      "  0     0    0     0    0     0      0      0 --:--:--  0:00:02 --:--:--     0\n",
      "  0     0    0     0    0     0      0      0 --:--:--  0:00:03 --:--:--     0\n",
      "  0     0    0     0    0     0      0      0 --:--:--  0:00:04 --:--:--     0\n",
      "  0     0    0     0    0     0      0      0 --:--:--  0:00:05 --:--:--     0\n",
      "  0     0    0     0    0     0      0      0 --:--:--  0:00:06 --:--:--     0\n",
      "  0     0    0     0    0     0      0      0 --:--:--  0:00:07 --:--:--     0\n",
      "  0     0    0     0    0     0      0      0 --:--:--  0:00:08 --:--:--     0\n",
      "  0     0    0     0    0     0      0      0 --:--:--  0:00:09 --:--:--     0\n",
      "  0     0    0     0    0     0      0      0 --:--:--  0:00:10 --:--:--     0\n",
      "  0     0    0     0    0     0      0      0 --:--:--  0:00:11 --:--:--     0\n",
      "  0     0    0     0    0     0      0      0 --:--:--  0:00:12 --:--:--     0\n",
      "  0     0    0     0    0     0      0      0 --:--:--  0:00:13 --:--:--     0\n",
      "  0     0    0     0    0     0      0      0 --:--:--  0:00:14 --:--:--     0\n",
      "  0     0    0     0    0     0      0      0 --:--:--  0:00:15 --:--:--     0\n",
      "  0     0    0     0    0     0      0      0 --:--:--  0:00:16 --:--:--     0\n",
      "  0     0    0     0    0     0      0      0 --:--:--  0:00:17 --:--:--     0\n",
      "  0     0    0     0    0     0      0      0 --:--:--  0:00:18 --:--:--     0\n",
      "  0     0    0     0    0     0      0      0 --:--:--  0:00:19 --:--:--     0\n",
      "  0     0    0     0    0     0      0      0 --:--:--  0:00:20 --:--:--     0\n",
      "  0     0    0     0    0     0      0      0 --:--:--  0:00:21 --:--:--     0\n",
      "  0     0    0     0    0     0      0      0 --:--:--  0:00:22 --:--:--     0\n",
      "  0     0    0     0    0     0      0      0 --:--:--  0:00:23 --:--:--     0\n",
      "  0     0    0     0    0     0      0      0 --:--:--  0:00:24 --:--:--     0\n",
      "  0     0    0     0    0     0      0      0 --:--:--  0:00:25 --:--:--     0\n",
      "  0     0    0     0    0     0      0      0 --:--:--  0:00:26 --:--:--     0\n",
      "  0     0    0     0    0     0      0      0 --:--:--  0:00:27 --:--:--     0\n",
      "  0     0    0     0    0     0      0      0 --:--:--  0:00:28 --:--:--     0\n",
      "  0     0    0     0    0     0      0      0 --:--:--  0:00:29 --:--:--     0\n",
      "  0     0    0     0    0     0      0      0 --:--:--  0:00:30 --:--:--     0\n",
      "  0     0    0     0    0     0      0      0 --:--:--  0:00:31 --:--:--     0\n",
      "  0     0    0     0    0     0      0      0 --:--:--  0:00:32 --:--:--     0\n",
      "  0     0    0     0    0     0      0      0 --:--:--  0:00:33 --:--:--     0\n",
      "  0     0    0     0    0     0      0      0 --:--:--  0:00:34 --:--:--     0\n",
      "  0     0    0     0    0     0      0      0 --:--:--  0:00:35 --:--:--     0\n",
      "  0     0    0     0    0     0      0      0 --:--:--  0:00:36 --:--:--     0\n",
      "  0     0    0     0    0     0      0      0 --:--:--  0:00:37 --:--:--     0\n",
      "  0     0    0     0    0     0      0      0 --:--:--  0:00:38 --:--:--     0\n",
      "  0     0    0     0    0     0      0      0 --:--:--  0:00:39 --:--:--     0\n",
      "  0     0    0     0    0     0      0      0 --:--:--  0:00:40 --:--:--     0\n",
      "  0     0    0     0    0     0      0      0 --:--:--  0:00:41 --:--:--     0\n",
      "  0     0    0     0    0     0      0      0 --:--:--  0:00:42 --:--:--     0\n",
      "  0     0    0     0    0     0      0      0 --:--:--  0:00:43 --:--:--     0\n",
      "  0     0    0     0    0     0      0      0 --:--:--  0:00:44 --:--:--     0\n",
      "  0     0    0     0    0     0      0      0 --:--:--  0:00:45 --:--:--     0\n",
      "  0     0    0     0    0     0      0      0 --:--:--  0:00:46 --:--:--     0\n",
      "  0     0    0     0    0     0      0      0 --:--:--  0:00:47 --:--:--     0\n",
      "  0     0    0     0    0     0      0      0 --:--:--  0:00:48 --:--:--     0\n",
      "  0     0    0     0    0     0      0      0 --:--:--  0:00:49 --:--:--     0\n",
      "  0     0    0     0    0     0      0      0 --:--:--  0:00:50 --:--:--     0\n",
      "  0     0    0     0    0     0      0      0 --:--:--  0:00:51 --:--:--     0\n",
      "  0     0    0     0    0     0      0      0 --:--:--  0:00:52 --:--:--     0\n",
      "  0     0    0     0    0     0      0      0 --:--:--  0:00:53 --:--:--     0\n",
      "  0     0    0     0    0     0      0      0 --:--:--  0:00:54 --:--:--     0\n",
      "  0     0    0     0    0     0      0      0 --:--:--  0:00:55 --:--:--     0\n",
      "  0     0    0     0    0     0      0      0 --:--:--  0:00:56 --:--:--     0\n",
      "  0     0    0     0    0     0      0      0 --:--:--  0:00:57 --:--:--     0\n",
      "  0     0    0     0    0     0      0      0 --:--:--  0:00:58 --:--:--     0\n",
      "  0     0    0     0    0     0      0      0 --:--:--  0:00:59 --:--:--     0\n",
      "  0     0    0     0    0     0      0      0 --:--:--  0:01:00 --:--:--     0\n",
      "  0     0    0     0    0     0      0      0 --:--:--  0:01:01 --:--:--     0\n",
      "  0     0    0     0    0     0      0      0 --:--:--  0:01:02 --:--:--     0\n",
      "  0     0    0     0    0     0      0      0 --:--:--  0:01:03 --:--:--     0\n",
      "  0     0    0     0    0     0      0      0 --:--:--  0:01:04 --:--:--     0\n",
      "  0     0    0     0    0     0      0      0 --:--:--  0:01:05 --:--:--     0\n",
      "  0     0    0     0    0     0      0      0 --:--:--  0:01:06 --:--:--     0\n",
      "  0     0    0     0    0     0      0      0 --:--:--  0:01:07 --:--:--     0\n",
      "  0     0    0     0    0     0      0      0 --:--:--  0:01:08 --:--:--     0\n",
      "  0     0    0     0    0     0      0      0 --:--:--  0:01:09 --:--:--     0\n",
      "  0     0    0     0    0     0      0      0 --:--:--  0:01:10 --:--:--     0\n",
      "  0     0    0     0    0     0      0      0 --:--:--  0:01:11 --:--:--     0\n",
      "  0     0    0     0    0     0      0      0 --:--:--  0:01:12 --:--:--     0\n",
      "  0     0    0     0    0     0      0      0 --:--:--  0:01:13 --:--:--     0\n",
      "  0     0    0     0    0     0      0      0 --:--:--  0:01:14 --:--:--     0\n",
      "  0     0    0     0    0     0      0      0 --:--:--  0:01:15 --:--:--     0\n",
      "  0     0    0     0    0     0      0      0 --:--:--  0:01:16 --:--:--     0\n",
      "  0     0    0     0    0     0      0      0 --:--:--  0:01:17 --:--:--     0\n",
      "  0     0    0     0    0     0      0      0 --:--:--  0:01:18 --:--:--     0\n",
      "  0     0    0     0    0     0      0      0 --:--:--  0:01:19 --:--:--     0\n",
      "  0     0    0     0    0     0      0      0 --:--:--  0:01:20 --:--:--     0\n",
      "  0     0    0     0    0     0      0      0 --:--:--  0:01:21 --:--:--     0\n",
      "  0     0    0     0    0     0      0      0 --:--:--  0:01:22 --:--:--     0\n",
      "  0     0    0     0    0     0      0      0 --:--:--  0:01:23 --:--:--     0\n",
      "  0     0    0     0    0     0      0      0 --:--:--  0:01:24 --:--:--     0\n",
      "  0     0    0     0    0     0      0      0 --:--:--  0:01:25 --:--:--     0\n",
      "  0     0    0     0    0     0      0      0 --:--:--  0:01:26 --:--:--     0\n",
      "  0     0    0     0    0     0      0      0 --:--:--  0:01:27 --:--:--     0\n",
      "  0     0    0     0    0     0      0      0 --:--:--  0:01:28 --:--:--     0\n",
      "  0     0    0     0    0     0      0      0 --:--:--  0:01:29 --:--:--     0\n",
      "  0     0    0     0    0     0      0      0 --:--:--  0:01:30 --:--:--     0\n",
      "  0     0    0     0    0     0      0      0 --:--:--  0:01:31 --:--:--     0\n",
      "  0     0    0     0    0     0      0      0 --:--:--  0:01:32 --:--:--     0\n",
      "  0     0    0     0    0     0      0      0 --:--:--  0:01:33 --:--:--     0\n",
      "  0     0    0     0    0     0      0      0 --:--:--  0:01:34 --:--:--     0\n",
      "  0     0    0     0    0     0      0      0 --:--:--  0:01:35 --:--:--     0\n",
      "  0     0    0     0    0     0      0      0 --:--:--  0:01:36 --:--:--     0\n",
      "  0     0    0     0    0     0      0      0 --:--:--  0:01:37 --:--:--     0\n",
      "  0     0    0     0    0     0      0      0 --:--:--  0:01:38 --:--:--     0\n",
      "  0     0    0     0    0     0      0      0 --:--:--  0:01:39 --:--:--     0\n",
      "  0     0    0     0    0     0      0      0 --:--:--  0:01:40 --:--:--     0\n",
      "  0     0    0     0    0     0      0      0 --:--:--  0:01:41 --:--:--     0\n",
      "  0     0    0     0    0     0      0      0 --:--:--  0:01:42 --:--:--     0\n",
      "  0     0    0     0    0     0      0      0 --:--:--  0:01:43 --:--:--     0\n",
      "  0     0    0     0    0     0      0      0 --:--:--  0:01:44 --:--:--     0\n",
      "  0     0    0     0    0     0      0      0 --:--:--  0:01:45 --:--:--     0\n",
      "  0     0    0     0    0     0      0      0 --:--:--  0:01:46 --:--:--     0\n",
      "  0     0    0     0    0     0      0      0 --:--:--  0:01:47 --:--:--     0\n",
      "  0     0    0     0    0     0      0      0 --:--:--  0:01:48 --:--:--     0\n",
      "  0     0    0     0    0     0      0      0 --:--:--  0:01:49 --:--:--     0\n",
      "  0     0    0     0    0     0      0      0 --:--:--  0:01:50 --:--:--     0\n",
      "  0     0    0     0    0     0      0      0 --:--:--  0:01:51 --:--:--     0\n",
      "  0     0    0     0    0     0      0      0 --:--:--  0:01:52 --:--:--     0\n",
      "  0     0    0     0    0     0      0      0 --:--:--  0:01:53 --:--:--     0\n",
      "  0     0    0     0    0     0      0      0 --:--:--  0:01:54 --:--:--     0\n",
      "  0     0    0     0    0     0      0      0 --:--:--  0:01:55 --:--:--     0\n",
      "  0     0    0     0    0     0      0      0 --:--:--  0:01:56 --:--:--     0\n",
      "  0     0    0     0    0     0      0      0 --:--:--  0:01:57 --:--:--     0\n",
      "  0     0    0     0    0     0      0      0 --:--:--  0:01:58 --:--:--     0\n",
      "  0     0    0     0    0     0      0      0 --:--:--  0:01:59 --:--:--     0\n",
      "  0     0    0     0    0     0      0      0 --:--:--  0:02:00 --:--:--     0\n",
      "  0     0    0     0    0     0      0      0 --:--:--  0:02:01 --:--:--     0\n",
      "  0     0    0     0    0     0      0      0 --:--:--  0:02:02 --:--:--     0\n",
      "  0     0    0     0    0     0      0      0 --:--:--  0:02:03 --:--:--     0\n",
      "  0     0    0     0    0     0      0      0 --:--:--  0:02:04 --:--:--     0\n",
      "  0     0    0     0    0     0      0      0 --:--:--  0:02:05 --:--:--     0\n",
      "  0     0    0     0    0     0      0      0 --:--:--  0:02:06 --:--:--     0\n",
      "  0     0    0     0    0     0      0      0 --:--:--  0:02:07 --:--:--     0\n",
      "  0     0    0     0    0     0      0      0 --:--:--  0:02:08 --:--:--     0\n",
      "  0     0    0     0    0     0      0      0 --:--:--  0:02:09 --:--:--     0\n",
      "  0     0    0     0    0     0      0      0 --:--:--  0:02:10 --:--:--     0\n",
      "  0     0    0     0    0     0      0      0 --:--:--  0:02:11 --:--:--     0\n",
      "  0     0    0     0    0     0      0      0 --:--:--  0:02:12 --:--:--     0\n",
      "  0     0    0     0    0     0      0      0 --:--:--  0:02:13 --:--:--     0\n",
      "  0     0    0     0    0     0      0      0 --:--:--  0:02:14 --:--:--     0\n",
      "  0     0    0     0    0     0      0      0 --:--:--  0:02:15 --:--:--     0\n",
      "  0     0    0     0    0     0      0      0 --:--:--  0:02:16 --:--:--     0\n",
      "  0     0    0     0    0     0      0      0 --:--:--  0:02:17 --:--:--     0\n",
      "  0     0    0     0    0     0      0      0 --:--:--  0:02:18 --:--:--     0\n",
      "  0     0    0     0    0     0      0      0 --:--:--  0:02:19 --:--:--     0\n",
      "  0     0    0     0    0     0      0      0 --:--:--  0:02:20 --:--:--     0\n",
      "  0     0    0     0    0     0      0      0 --:--:--  0:02:21 --:--:--     0\n",
      "  0     0    0     0    0     0      0      0 --:--:--  0:02:22 --:--:--     0\n",
      "  0     0    0     0    0     0      0      0 --:--:--  0:02:23 --:--:--     0\n",
      "  0     0    0     0    0     0      0      0 --:--:--  0:02:24 --:--:--     0\n",
      "  0     0    0     0    0     0      0      0 --:--:--  0:02:25 --:--:--     0\n",
      "  0     0    0     0    0     0      0      0 --:--:--  0:02:26 --:--:--     0\n",
      "  0     0    0     0    0     0      0      0 --:--:--  0:02:27 --:--:--     0\n",
      "  0     0    0     0    0     0      0      0 --:--:--  0:02:28 --:--:--     0\n",
      "  0     0    0     0    0     0      0      0 --:--:--  0:02:29 --:--:--     0\n",
      "  0     0    0     0    0     0      0      0 --:--:--  0:02:30 --:--:--     0\n",
      "  0     0    0     0    0     0      0      0 --:--:--  0:02:31 --:--:--     0\n",
      "  0     0    0     0    0     0      0      0 --:--:--  0:02:32 --:--:--     0\n",
      "  0     0    0     0    0     0      0      0 --:--:--  0:02:33 --:--:--     0\n",
      "  0     0    0     0    0     0      0      0 --:--:--  0:02:34 --:--:--     0\n",
      "  0     0    0     0    0     0      0      0 --:--:--  0:02:35 --:--:--     0\n",
      "  0     0    0     0    0     0      0      0 --:--:--  0:02:36 --:--:--     0\n",
      "  0     0    0     0    0     0      0      0 --:--:--  0:02:37 --:--:--     0\n",
      "  0     0    0     0    0     0      0      0 --:--:--  0:02:38 --:--:--     0\n",
      "  0     0    0     0    0     0      0      0 --:--:--  0:02:39 --:--:--     0\n",
      "  0     0    0     0    0     0      0      0 --:--:--  0:02:40 --:--:--     0\n",
      "  0     0    0     0    0     0      0      0 --:--:--  0:02:41 --:--:--     0\n",
      "  0     0    0     0    0     0      0      0 --:--:--  0:02:42 --:--:--     0\n",
      "  0     0    0     0    0     0      0      0 --:--:--  0:02:43 --:--:--     0\n",
      "  0     0    0     0    0     0      0      0 --:--:--  0:02:44 --:--:--     0\n",
      "  0     0    0     0    0     0      0      0 --:--:--  0:02:45 --:--:--     0\n",
      "  0     0    0     0    0     0      0      0 --:--:--  0:02:46 --:--:--     0\n",
      "  0     0    0     0    0     0      0      0 --:--:--  0:02:47 --:--:--     0\n",
      "  0     0    0     0    0     0      0      0 --:--:--  0:02:48 --:--:--     0\n",
      "  0     0    0     0    0     0      0      0 --:--:--  0:02:49 --:--:--     0\n",
      "  0     0    0     0    0     0      0      0 --:--:--  0:02:50 --:--:--     0\n",
      "  0     0    0     0    0     0      0      0 --:--:--  0:02:51 --:--:--     0\n",
      "  0     0    0     0    0     0      0      0 --:--:--  0:02:52 --:--:--     0\n",
      "  0     0    0     0    0     0      0      0 --:--:--  0:02:53 --:--:--     0\n",
      "  0     0    0     0    0     0      0      0 --:--:--  0:02:54 --:--:--     0\n",
      "  0     0    0     0    0     0      0      0 --:--:--  0:02:55 --:--:--     0\n",
      "  0     0    0     0    0     0      0      0 --:--:--  0:02:56 --:--:--     0\n",
      "  0     0    0     0    0     0      0      0 --:--:--  0:02:57 --:--:--     0\n",
      "  0     0    0     0    0     0      0      0 --:--:--  0:02:58 --:--:--     0\n",
      "  0     0    0     0    0     0      0      0 --:--:--  0:02:59 --:--:--     0\n",
      "  0     0    0     0    0     0      0      0 --:--:--  0:03:00 --:--:--     0\n",
      "  0     0    0     0    0     0      0      0 --:--:--  0:03:01 --:--:--     0\n",
      "  0     0    0     0    0     0      0      0 --:--:--  0:03:02 --:--:--     0\n",
      "  0     0    0     0    0     0      0      0 --:--:--  0:03:03 --:--:--     0\n",
      "  0     0    0     0    0     0      0      0 --:--:--  0:03:04 --:--:--     0\n",
      "  0     0    0     0    0     0      0      0 --:--:--  0:03:05 --:--:--     0\n",
      "  0     0    0     0    0     0      0      0 --:--:--  0:03:06 --:--:--     0\n",
      "  0     0    0     0    0     0      0      0 --:--:--  0:03:07 --:--:--     0\n",
      "  0     0    0     0    0     0      0      0 --:--:--  0:03:08 --:--:--     0\n",
      "  0     0    0     0    0     0      0      0 --:--:--  0:03:09 --:--:--     0\n",
      "  0     0    0     0    0     0      0      0 --:--:--  0:03:10 --:--:--     0\n",
      "  0     0    0     0    0     0      0      0 --:--:--  0:03:11 --:--:--     0\n",
      "  0     0    0     0    0     0      0      0 --:--:--  0:03:12 --:--:--     0\n",
      "  0     0    0     0    0     0      0      0 --:--:--  0:03:13 --:--:--     0\n",
      "  0     0    0     0    0     0      0      0 --:--:--  0:03:14 --:--:--     0\n",
      "  0     0    0     0    0     0      0      0 --:--:--  0:03:15 --:--:--     0\n",
      "  0     0    0     0    0     0      0      0 --:--:--  0:03:16 --:--:--     0\n",
      "  0     0    0     0    0     0      0      0 --:--:--  0:03:17 --:--:--     0\n",
      "  0     0    0     0    0     0      0      0 --:--:--  0:03:18 --:--:--     0\n",
      "  0     0    0     0    0     0      0      0 --:--:--  0:03:19 --:--:--     0\n",
      "  0     0    0     0    0     0      0      0 --:--:--  0:03:20 --:--:--     0\n",
      "  0     0    0     0    0     0      0      0 --:--:--  0:03:21 --:--:--     0\n",
      "  0     0    0     0    0     0      0      0 --:--:--  0:03:22 --:--:--     0\n",
      "  0     0    0     0    0     0      0      0 --:--:--  0:03:23 --:--:--     0\n",
      "  0     0    0     0    0     0      0      0 --:--:--  0:03:24 --:--:--     0\n",
      "  0     0    0     0    0     0      0      0 --:--:--  0:03:25 --:--:--     0\n",
      "  0     0    0     0    0     0      0      0 --:--:--  0:03:26 --:--:--     0\n",
      "  0     0    0     0    0     0      0      0 --:--:--  0:03:27 --:--:--     0\n",
      "  0     0    0     0    0     0      0      0 --:--:--  0:03:28 --:--:--     0\n",
      "  0     0    0     0    0     0      0      0 --:--:--  0:03:29 --:--:--     0\n",
      "  0     0    0     0    0     0      0      0 --:--:--  0:03:30 --:--:--     0\n",
      "  0     0    0     0    0     0      0      0 --:--:--  0:03:31 --:--:--     0\n",
      "  0     0    0     0    0     0      0      0 --:--:--  0:03:32 --:--:--     0\n",
      "  0     0    0     0    0     0      0      0 --:--:--  0:03:33 --:--:--     0\n",
      "  0     0    0     0    0     0      0      0 --:--:--  0:03:34 --:--:--     0\n",
      "  0     0    0     0    0     0      0      0 --:--:--  0:03:35 --:--:--     0\n",
      "  0     0    0     0    0     0      0      0 --:--:--  0:03:36 --:--:--     0\n",
      "  0     0    0     0    0     0      0      0 --:--:--  0:03:37 --:--:--     0\n",
      "  0     0    0     0    0     0      0      0 --:--:--  0:03:38 --:--:--     0\n",
      "  0     0    0     0    0     0      0      0 --:--:--  0:03:39 --:--:--     0\n",
      "  0     0    0     0    0     0      0      0 --:--:--  0:03:40 --:--:--     0\n",
      "  0     0    0     0    0     0      0      0 --:--:--  0:03:41 --:--:--     0\n",
      "  0     0    0     0    0     0      0      0 --:--:--  0:03:42 --:--:--     0\n",
      "  0     0    0     0    0     0      0      0 --:--:--  0:03:43 --:--:--     0\n",
      "  0     0    0     0    0     0      0      0 --:--:--  0:03:44 --:--:--     0\n",
      "  0     0    0     0    0     0      0      0 --:--:--  0:03:45 --:--:--     0\n",
      "  0     0    0     0    0     0      0      0 --:--:--  0:03:46 --:--:--     0\n",
      "  0     0    0     0    0     0      0      0 --:--:--  0:03:47 --:--:--     0\n",
      "  0     0    0     0    0     0      0      0 --:--:--  0:03:48 --:--:--     0\n",
      "  0     0    0     0    0     0      0      0 --:--:--  0:03:49 --:--:--     0\n",
      "  0     0    0     0    0     0      0      0 --:--:--  0:03:50 --:--:--     0\n",
      "  0     0    0     0    0     0      0      0 --:--:--  0:03:51 --:--:--     0\n",
      "  0     0    0     0    0     0      0      0 --:--:--  0:03:52 --:--:--     0\n",
      "  0     0    0     0    0     0      0      0 --:--:--  0:03:53 --:--:--     0\n",
      "  0     0    0     0    0     0      0      0 --:--:--  0:03:54 --:--:--     0\n",
      "  0     0    0     0    0     0      0      0 --:--:--  0:03:55 --:--:--     0\n",
      "  0     0    0     0    0     0      0      0 --:--:--  0:03:56 --:--:--     0\n",
      "  0     0    0     0    0     0      0      0 --:--:--  0:03:57 --:--:--     0\n",
      "  0     0    0     0    0     0      0      0 --:--:--  0:03:58 --:--:--     0\n",
      "  0     0    0     0    0     0      0      0 --:--:--  0:03:59 --:--:--     0\n",
      "  0     0    0     0    0     0      0      0 --:--:--  0:04:00 --:--:--     0\n",
      "  0     0    0     0    0     0      0      0 --:--:--  0:04:01 --:--:--     0\n",
      "  0     0    0     0    0     0      0      0 --:--:--  0:04:02 --:--:--     0\n",
      "  0     0    0     0    0     0      0      0 --:--:--  0:04:03 --:--:--     0\n",
      "  0     0    0     0    0     0      0      0 --:--:--  0:04:04 --:--:--     0\n",
      "  0     0    0     0    0     0      0      0 --:--:--  0:04:05 --:--:--     0\n",
      "  0     0    0     0    0     0      0      0 --:--:--  0:04:06 --:--:--     0\n",
      "  0     0    0     0    0     0      0      0 --:--:--  0:04:07 --:--:--     0\n",
      "  0     0    0     0    0     0      0      0 --:--:--  0:04:08 --:--:--     0\n",
      "  0     0    0     0    0     0      0      0 --:--:--  0:04:09 --:--:--     0\n",
      "  0     0    0     0    0     0      0      0 --:--:--  0:04:10 --:--:--     0\n"
     ]
    }
   ],
   "source": [
    "!curl --silent --show-error http://localhost:8080/cloudmesh/forecast/create_forecast?country=Spain"
   ]
  },
  {
   "cell_type": "markdown",
   "metadata": {},
   "source": [
    "####  Look up the forecast \n",
    "\n",
    "countryName parameter should be the item_id to be predicted."
   ]
  },
  {
   "cell_type": "code",
   "execution_count": 175,
   "metadata": {},
   "outputs": [
    {
     "name": "stdout",
     "output_type": "stream",
     "text": [
      "\"Execute create forecast first\"\n"
     ]
    }
   ],
   "source": [
    "!curl --silent --show-error http://localhost:8080/cloudmesh/forecast/lookupForecast?countryName=Spain"
   ]
  },
  {
   "cell_type": "markdown",
   "metadata": {},
   "source": [
    "#### Compare Actual Results Vs Forecast Predicted Results \n",
    "\n",
    "* Import the test data created as part of split\n",
    "* Update the columns as per schema.json uploaded"
   ]
  },
  {
   "cell_type": "code",
   "execution_count": 140,
   "metadata": {},
   "outputs": [
    {
     "data": {
      "text/html": [
       "<div>\n",
       "<style scoped>\n",
       "    .dataframe tbody tr th:only-of-type {\n",
       "        vertical-align: middle;\n",
       "    }\n",
       "\n",
       "    .dataframe tbody tr th {\n",
       "        vertical-align: top;\n",
       "    }\n",
       "\n",
       "    .dataframe thead th {\n",
       "        text-align: right;\n",
       "    }\n",
       "</style>\n",
       "<table border=\"1\" class=\"dataframe\">\n",
       "  <thead>\n",
       "    <tr style=\"text-align: right;\">\n",
       "      <th></th>\n",
       "      <th>timestamp</th>\n",
       "      <th>item_id</th>\n",
       "      <th>confirmed</th>\n",
       "      <th>target_value</th>\n",
       "      <th>deaths</th>\n",
       "    </tr>\n",
       "  </thead>\n",
       "  <tbody>\n",
       "    <tr>\n",
       "      <th>0</th>\n",
       "      <td>2020-03-16 00:00:00</td>\n",
       "      <td>Tunisia</td>\n",
       "      <td>20.0</td>\n",
       "      <td>0</td>\n",
       "      <td>0.0</td>\n",
       "    </tr>\n",
       "    <tr>\n",
       "      <th>1</th>\n",
       "      <td>2020-03-29 00:00:00</td>\n",
       "      <td>Oman</td>\n",
       "      <td>167.0</td>\n",
       "      <td>23</td>\n",
       "      <td>0.0</td>\n",
       "    </tr>\n",
       "    <tr>\n",
       "      <th>2</th>\n",
       "      <td>2020-03-20 00:00:00</td>\n",
       "      <td>Latvia</td>\n",
       "      <td>111.0</td>\n",
       "      <td>1</td>\n",
       "      <td>0.0</td>\n",
       "    </tr>\n",
       "    <tr>\n",
       "      <th>3</th>\n",
       "      <td>2020-02-21 00:00:00</td>\n",
       "      <td>Israel</td>\n",
       "      <td>1.0</td>\n",
       "      <td>0</td>\n",
       "      <td>0.0</td>\n",
       "    </tr>\n",
       "    <tr>\n",
       "      <th>4</th>\n",
       "      <td>2020-02-08 00:00:00</td>\n",
       "      <td>China</td>\n",
       "      <td>195.0</td>\n",
       "      <td>20</td>\n",
       "      <td>0.0</td>\n",
       "    </tr>\n",
       "  </tbody>\n",
       "</table>\n",
       "</div>"
      ],
      "text/plain": [
       "             timestamp  item_id  confirmed  target_value  deaths\n",
       "0  2020-03-16 00:00:00  Tunisia       20.0             0     0.0\n",
       "1  2020-03-29 00:00:00     Oman      167.0            23     0.0\n",
       "2  2020-03-20 00:00:00   Latvia      111.0             1     0.0\n",
       "3  2020-02-21 00:00:00   Israel        1.0             0     0.0\n",
       "4  2020-02-08 00:00:00    China      195.0            20     0.0"
      ]
     },
     "execution_count": 140,
     "metadata": {},
     "output_type": "execute_result"
    }
   ],
   "source": [
    "import pandas as pd\n",
    "\n",
    "test_df = pd.read_csv(\"aiservices-test.csv\", names=['timestamp','item_id','confirmed', 'target_value', 'deaths'])\n",
    "test_df.head()"
   ]
  },
  {
   "cell_type": "raw",
   "metadata": {},
   "source": [
    "Pick a range in actual data to look at results and update the parameters fromdate and todata"
   ]
  },
  {
   "cell_type": "code",
   "execution_count": 150,
   "metadata": {},
   "outputs": [],
   "source": [
    "fromdate='2020-04-14'\n",
    "todate='2020-06-12'"
   ]
  },
  {
   "cell_type": "code",
   "execution_count": 151,
   "metadata": {},
   "outputs": [],
   "source": [
    "test_df = test_df[(test_df['timestamp'] >= fromdate) & (test_df['timestamp'] < todate)]"
   ]
  },
  {
   "cell_type": "markdown",
   "metadata": {},
   "source": [
    "Provide the item for which the forecast need to be looked at in !curl http://localhost:8080/cloudmesh/forecast/lookupForecast?countryName=India "
   ]
  },
  {
   "cell_type": "code",
   "execution_count": 152,
   "metadata": {},
   "outputs": [],
   "source": [
    "lookupitem='India'"
   ]
  },
  {
   "cell_type": "code",
   "execution_count": 153,
   "metadata": {},
   "outputs": [
    {
     "data": {
      "text/html": [
       "<div>\n",
       "<style scoped>\n",
       "    .dataframe tbody tr th:only-of-type {\n",
       "        vertical-align: middle;\n",
       "    }\n",
       "\n",
       "    .dataframe tbody tr th {\n",
       "        vertical-align: top;\n",
       "    }\n",
       "\n",
       "    .dataframe thead th {\n",
       "        text-align: right;\n",
       "    }\n",
       "</style>\n",
       "<table border=\"1\" class=\"dataframe\">\n",
       "  <thead>\n",
       "    <tr style=\"text-align: right;\">\n",
       "      <th></th>\n",
       "      <th>timestamp</th>\n",
       "      <th>item_id</th>\n",
       "      <th>confirmed</th>\n",
       "      <th>target_value</th>\n",
       "      <th>deaths</th>\n",
       "    </tr>\n",
       "  </thead>\n",
       "  <tbody>\n",
       "    <tr>\n",
       "      <th>8073</th>\n",
       "      <td>2020-05-06 00:00:00</td>\n",
       "      <td>India</td>\n",
       "      <td>52987.0</td>\n",
       "      <td>15331</td>\n",
       "      <td>1785.0</td>\n",
       "    </tr>\n",
       "    <tr>\n",
       "      <th>17274</th>\n",
       "      <td>2020-05-07 00:00:00</td>\n",
       "      <td>India</td>\n",
       "      <td>56351.0</td>\n",
       "      <td>16776</td>\n",
       "      <td>1889.0</td>\n",
       "    </tr>\n",
       "  </tbody>\n",
       "</table>\n",
       "</div>"
      ],
      "text/plain": [
       "                 timestamp item_id  confirmed  target_value  deaths\n",
       "8073   2020-05-06 00:00:00   India    52987.0         15331  1785.0\n",
       "17274  2020-05-07 00:00:00   India    56351.0         16776  1889.0"
      ]
     },
     "execution_count": 153,
     "metadata": {},
     "output_type": "execute_result"
    }
   ],
   "source": [
    "test_df = test_df[(test_df['item_id'] == lookupitem)]\n",
    "test_df.head()"
   ]
  },
  {
   "cell_type": "markdown",
   "metadata": {},
   "source": [
    "Plot actual data points selected."
   ]
  },
  {
   "cell_type": "code",
   "execution_count": 154,
   "metadata": {},
   "outputs": [],
   "source": [
    "forecastResponse = forecastquery.query_forecast(\n",
    "    ForecastArn=forecast_arn,\n",
    "    Filters={\"item_id\":\"Spain\"}\n",
    ")"
   ]
  },
  {
   "cell_type": "markdown",
   "metadata": {},
   "source": [
    "#### Generate predictions\n",
    "\n",
    "Generate 10, 50 and 90 percentile predictions and merge it into a results data frame"
   ]
  },
  {
   "cell_type": "code",
   "execution_count": 176,
   "metadata": {},
   "outputs": [],
   "source": [
    "pred_p10 = pd.DataFrame.from_dict(forecastResponse['Forecast']['Predictions']['p10'])\n",
    "pred_p50 = pd.DataFrame.from_dict(forecastResponse['Forecast']['Predictions']['p50'])\n",
    "pred_p90 = pd.DataFrame.from_dict(forecastResponse['Forecast']['Predictions']['p90'])"
   ]
  },
  {
   "cell_type": "code",
   "execution_count": 155,
   "metadata": {},
   "outputs": [],
   "source": [
    "pred_p10['value'] = pred_p10['Value'].astype(int)\n",
    "pred_p50['value'] = pred_p50['Value'].astype(int)\n",
    "pred_p90['value'] = pred_p90['Value'].astype(int)"
   ]
  },
  {
   "cell_type": "code",
   "execution_count": 178,
   "metadata": {},
   "outputs": [],
   "source": [
    "pred_df = pd.DataFrame(columns=['timestamp', 'Value', 'source'])"
   ]
  },
  {
   "cell_type": "code",
   "execution_count": 179,
   "metadata": {},
   "outputs": [],
   "source": [
    "for index, row in pred_p10.iterrows():\n",
    "    clean_timestamp = dateutil.parser.parse(row['Timestamp'])\n",
    "    pred_df = pred_df.append({'timestamp' : clean_timestamp , 'Value' : row['Value'], 'source': 'p10'} , ignore_index=True)\n",
    "for index, row in prediction_df_p50.iterrows():\n",
    "    clean_timestamp = dateutil.parser.parse(row['Timestamp'])\n",
    "    pred_df = pred_df.append({'timestamp' : clean_timestamp , 'Value' : row['Value'], 'source': 'p50'} , ignore_index=True)\n",
    "for index, row in prediction_df_p90.iterrows():\n",
    "    clean_timestamp = dateutil.parser.parse(row['Timestamp'])\n",
    "    pred_df = pred_df.append({'timestamp' : clean_timestamp , 'Value' : row['Value'], 'source': 'p90'} , ignore_index=True)"
   ]
  },
  {
   "cell_type": "markdown",
   "metadata": {},
   "source": [
    "Generate plot for actual and predicted data."
   ]
  },
  {
   "cell_type": "code",
   "execution_count": 180,
   "metadata": {},
   "outputs": [
    {
     "data": {
      "text/plain": [
       "<matplotlib.axes._subplots.AxesSubplot at 0x1219aa78>"
      ]
     },
     "execution_count": 180,
     "metadata": {},
     "output_type": "execute_result"
    },
    {
     "data": {
      "image/png": "[encoded data removed]",
      "text/plain": [
       "<Figure size 432x288 with 1 Axes>"
      ]
     },
     "metadata": {
      "needs_background": "light"
     },
     "output_type": "display_data"
    }
   ],
   "source": [
    "ax = test_df.plot(x='timestamp', y='target_value')\n",
    "results_df.plot(ax=ax, x='timestamp', y='Value')"
   ]
  }
 ],
 "metadata": {
  "kernelspec": {
   "display_name": "Python 3",
   "language": "python",
   "name": "python3"
  },
  "language_info": {
   "codemirror_mode": {
    "name": "ipython",
    "version": 3
   },
   "file_extension": ".py",
   "mimetype": "text/x-python",
   "name": "python",
   "nbconvert_exporter": "python",
   "pygments_lexer": "ipython3",
   "version": "3.8.1"
  }
 },
 "nbformat": 4,
 "nbformat_minor": 4
}
