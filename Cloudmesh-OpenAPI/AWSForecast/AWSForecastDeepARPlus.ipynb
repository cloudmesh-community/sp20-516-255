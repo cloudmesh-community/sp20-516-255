{
 "cells": [
  {
   "cell_type": "markdown",
   "metadata": {},
   "source": [
    "# AWS Forecast using DeepAR Plus\n",
    "\n",
    "The overall process for using Amazon Forecast is the following:\n",
    "\n",
    "1. Get Data set \n",
    "1. Create a Dataset Group.\n",
    "1. Create a Dataset, in Forecast there are 3 types of dataset, Target Time Series, Related Time Series, and Item Metadata\n",
    "1. Import data into Forecast from AWS Storage S3\n",
    "1. Train a model\n",
    "1. Create a Predictor\n",
    "1. Query the Forecast\n",
    "1. Referenced from Amazon Forecast Samples at https://github.com/aws-samples/amazon-forecast-samples"
   ]
  },
  {
   "cell_type": "code",
   "execution_count": 1,
   "metadata": {},
   "outputs": [],
   "source": [
    "import sys\n",
    "import os\n",
    "import json\n",
    "import time\n",
    "import pandas as pd\n",
    "import boto3\n",
    "import numpy as np\n",
    "from cloudmesh.common.StopWatch import StopWatch\n",
    "from time import sleep"
   ]
  },
  {
   "cell_type": "markdown",
   "metadata": {},
   "source": [
    "### Data Load \n",
    "* Load into a dataframe from .csv file.\n",
    "* Functions to set less than 0 values to 0\n",
    "* Set missing values to 0\n",
    "* Create a log scale for the value"
   ]
  },
  {
   "cell_type": "code",
   "execution_count": 3,
   "metadata": {},
   "outputs": [
    {
     "data": {
      "text/html": [
       "<div>\n",
       "<style scoped>\n",
       "    .dataframe tbody tr th:only-of-type {\n",
       "        vertical-align: middle;\n",
       "    }\n",
       "\n",
       "    .dataframe tbody tr th {\n",
       "        vertical-align: top;\n",
       "    }\n",
       "\n",
       "    .dataframe thead th {\n",
       "        text-align: right;\n",
       "    }\n",
       "</style>\n",
       "<table border=\"1\" class=\"dataframe\">\n",
       "  <thead>\n",
       "    <tr style=\"text-align: right;\">\n",
       "      <th></th>\n",
       "      <th>timestamp</th>\n",
       "      <th>target_value</th>\n",
       "      <th>item_id</th>\n",
       "    </tr>\n",
       "  </thead>\n",
       "  <tbody>\n",
       "    <tr>\n",
       "      <th>0</th>\n",
       "      <td>2014-01-01 01:00:00</td>\n",
       "      <td>2.538071</td>\n",
       "      <td>client_0</td>\n",
       "    </tr>\n",
       "    <tr>\n",
       "      <th>1</th>\n",
       "      <td>2014-01-01 01:00:00</td>\n",
       "      <td>23.648649</td>\n",
       "      <td>client_1</td>\n",
       "    </tr>\n",
       "    <tr>\n",
       "      <th>2</th>\n",
       "      <td>2014-01-01 01:00:00</td>\n",
       "      <td>0.000000</td>\n",
       "      <td>client_2</td>\n",
       "    </tr>\n",
       "  </tbody>\n",
       "</table>\n",
       "</div>"
      ],
      "text/plain": [
       "             timestamp  target_value   item_id\n",
       "0  2014-01-01 01:00:00      2.538071  client_0\n",
       "1  2014-01-01 01:00:00     23.648649  client_1\n",
       "2  2014-01-01 01:00:00      0.000000  client_2"
      ]
     },
     "execution_count": 3,
     "metadata": {},
     "output_type": "execute_result"
    }
   ],
   "source": [
    "df = pd.read_csv(\"data.csv\", dtype = object, names=['timestamp','target_value','item_id'], skiprows=1)\n",
    "df.target_value=df.target_value.astype(float)\n",
    "df.head(3)"
   ]
  },
  {
   "cell_type": "code",
   "execution_count": 4,
   "metadata": {},
   "outputs": [],
   "source": [
    "def updatedf(x,setval):\n",
    "    if x < 0 :\n",
    "        x=setval\n",
    "    return x\n",
    "\n",
    "def updateNan(x):\n",
    "    return x.fillna(0)"
   ]
  },
  {
   "cell_type": "code",
   "execution_count": 6,
   "metadata": {},
   "outputs": [
    {
     "data": {
      "text/html": [
       "<div>\n",
       "<style scoped>\n",
       "    .dataframe tbody tr th:only-of-type {\n",
       "        vertical-align: middle;\n",
       "    }\n",
       "\n",
       "    .dataframe tbody tr th {\n",
       "        vertical-align: top;\n",
       "    }\n",
       "\n",
       "    .dataframe thead th {\n",
       "        text-align: right;\n",
       "    }\n",
       "</style>\n",
       "<table border=\"1\" class=\"dataframe\">\n",
       "  <thead>\n",
       "    <tr style=\"text-align: right;\">\n",
       "      <th></th>\n",
       "      <th>timestamp</th>\n",
       "      <th>target_value</th>\n",
       "      <th>item_id</th>\n",
       "    </tr>\n",
       "  </thead>\n",
       "  <tbody>\n",
       "    <tr>\n",
       "      <th>0</th>\n",
       "      <td>2014-01-01 01:00:00</td>\n",
       "      <td>2.538071</td>\n",
       "      <td>client_0</td>\n",
       "    </tr>\n",
       "    <tr>\n",
       "      <th>1</th>\n",
       "      <td>2014-01-01 01:00:00</td>\n",
       "      <td>23.648649</td>\n",
       "      <td>client_1</td>\n",
       "    </tr>\n",
       "    <tr>\n",
       "      <th>2</th>\n",
       "      <td>2014-01-01 01:00:00</td>\n",
       "      <td>0.000000</td>\n",
       "      <td>client_2</td>\n",
       "    </tr>\n",
       "    <tr>\n",
       "      <th>3</th>\n",
       "      <td>2014-01-01 01:00:00</td>\n",
       "      <td>144.817073</td>\n",
       "      <td>client_3</td>\n",
       "    </tr>\n",
       "    <tr>\n",
       "      <th>4</th>\n",
       "      <td>2014-01-01 01:00:00</td>\n",
       "      <td>75.000000</td>\n",
       "      <td>client_4</td>\n",
       "    </tr>\n",
       "  </tbody>\n",
       "</table>\n",
       "</div>"
      ],
      "text/plain": [
       "             timestamp  target_value   item_id\n",
       "0  2014-01-01 01:00:00      2.538071  client_0\n",
       "1  2014-01-01 01:00:00     23.648649  client_1\n",
       "2  2014-01-01 01:00:00      0.000000  client_2\n",
       "3  2014-01-01 01:00:00    144.817073  client_3\n",
       "4  2014-01-01 01:00:00     75.000000  client_4"
      ]
     },
     "execution_count": 6,
     "metadata": {},
     "output_type": "execute_result"
    }
   ],
   "source": [
    "df['target_value'] = df['target_value'].apply(lambda x: updatedf(x,0))\n",
    "df.head()"
   ]
  },
  {
   "cell_type": "code",
   "execution_count": 7,
   "metadata": {},
   "outputs": [
    {
     "data": {
      "text/html": [
       "<div>\n",
       "<style scoped>\n",
       "    .dataframe tbody tr th:only-of-type {\n",
       "        vertical-align: middle;\n",
       "    }\n",
       "\n",
       "    .dataframe tbody tr th {\n",
       "        vertical-align: top;\n",
       "    }\n",
       "\n",
       "    .dataframe thead th {\n",
       "        text-align: right;\n",
       "    }\n",
       "</style>\n",
       "<table border=\"1\" class=\"dataframe\">\n",
       "  <thead>\n",
       "    <tr style=\"text-align: right;\">\n",
       "      <th></th>\n",
       "      <th>timestamp</th>\n",
       "      <th>target_value</th>\n",
       "      <th>item_id</th>\n",
       "    </tr>\n",
       "  </thead>\n",
       "  <tbody>\n",
       "    <tr>\n",
       "      <th>0</th>\n",
       "      <td>2014-01-01 01:00:00</td>\n",
       "      <td>2.538071</td>\n",
       "      <td>client_0</td>\n",
       "    </tr>\n",
       "    <tr>\n",
       "      <th>1</th>\n",
       "      <td>2014-01-01 01:00:00</td>\n",
       "      <td>23.648649</td>\n",
       "      <td>client_1</td>\n",
       "    </tr>\n",
       "    <tr>\n",
       "      <th>2</th>\n",
       "      <td>2014-01-01 01:00:00</td>\n",
       "      <td>0.000000</td>\n",
       "      <td>client_2</td>\n",
       "    </tr>\n",
       "    <tr>\n",
       "      <th>3</th>\n",
       "      <td>2014-01-01 01:00:00</td>\n",
       "      <td>144.817073</td>\n",
       "      <td>client_3</td>\n",
       "    </tr>\n",
       "    <tr>\n",
       "      <th>4</th>\n",
       "      <td>2014-01-01 01:00:00</td>\n",
       "      <td>75.000000</td>\n",
       "      <td>client_4</td>\n",
       "    </tr>\n",
       "  </tbody>\n",
       "</table>\n",
       "</div>"
      ],
      "text/plain": [
       "             timestamp  target_value   item_id\n",
       "0  2014-01-01 01:00:00      2.538071  client_0\n",
       "1  2014-01-01 01:00:00     23.648649  client_1\n",
       "2  2014-01-01 01:00:00      0.000000  client_2\n",
       "3  2014-01-01 01:00:00    144.817073  client_3\n",
       "4  2014-01-01 01:00:00     75.000000  client_4"
      ]
     },
     "execution_count": 7,
     "metadata": {},
     "output_type": "execute_result"
    }
   ],
   "source": [
    "df = df.apply(lambda x: updateNan(x))\n",
    "df.head()"
   ]
  },
  {
   "cell_type": "code",
   "execution_count": 8,
   "metadata": {},
   "outputs": [],
   "source": [
    "import matplotlib.pyplot as plt "
   ]
  },
  {
   "cell_type": "code",
   "execution_count": 9,
   "metadata": {},
   "outputs": [
    {
     "data": {
      "text/plain": [
       "Text(0.5, 0.98, 'Log Scale for Value column in the dataframe')"
      ]
     },
     "execution_count": 9,
     "metadata": {},
     "output_type": "execute_result"
    },
    {
     "data": {
      "image/png": "[encoded data removed]",
      "text/plain": [
       "<Figure size 432x288 with 1 Axes>"
      ]
     },
     "metadata": {
      "needs_background": "light"
     },
     "output_type": "display_data"
    }
   ],
   "source": [
    "fig=plt.figure()\n",
    "plt.yscale(\"log\")\n",
    "plt.plot(df['target_value']) \n",
    "fig.suptitle('Log Scale for Value column in the dataframe', fontsize=14)"
   ]
  },
  {
   "cell_type": "markdown",
   "metadata": {},
   "source": [
    "### Split the data set into training and test."
   ]
  },
  {
   "cell_type": "code",
   "execution_count": 10,
   "metadata": {},
   "outputs": [],
   "source": [
    "def split_data_train_test(data,percentage=0.3):\n",
    "    from sklearn.model_selection import train_test_split\n",
    "    x_train ,x_test = train_test_split(data,test_size=percentage)\n",
    "    return x_train, x_test"
   ]
  },
  {
   "cell_type": "code",
   "execution_count": 11,
   "metadata": {},
   "outputs": [],
   "source": [
    "#divide the data into Train and Test Dataset.\n",
    "split_percentage=0.3\n",
    "train_df, test_df= split_data_train_test(df,split_percentage)"
   ]
  },
  {
   "cell_type": "code",
   "execution_count": 12,
   "metadata": {},
   "outputs": [
    {
     "name": "stdout",
     "output_type": "stream",
     "text": [
      "10\n"
     ]
    }
   ],
   "source": [
    "StopWatch.start('to_csv')\n",
    "\n",
    "train_df.to_csv(\"aiservices-train.csv\", header=False, index=False)\n",
    "test_df.to_csv(\"aiservices-test.csv\", header=False, index=False)\n",
    "\n",
    "StopWatch.stop('to_csv')\n",
    "\n",
    "print (StopWatch.get('to_csv'))"
   ]
  },
  {
   "cell_type": "markdown",
   "metadata": {},
   "source": [
    "### Initialize required cloud services"
   ]
  },
  {
   "cell_type": "code",
   "execution_count": 13,
   "metadata": {},
   "outputs": [],
   "source": [
    "region='us-east-1'\n",
    "session = boto3.Session(region_name=region) \n",
    "forecast = session.client(service_name='forecast')\n",
    "forecastquery = session.client(service_name='forecastquery')"
   ]
  },
  {
   "cell_type": "code",
   "execution_count": 14,
   "metadata": {},
   "outputs": [
    {
     "name": "stdout",
     "output_type": "stream",
     "text": [
      "11\n"
     ]
    }
   ],
   "source": [
    "import botocore\n",
    "\n",
    "key=\"aiservices-train.csv\"\n",
    "bucket_name='awsforecastassignnment'\n",
    "\n",
    "StopWatch.start('to_s3')\n",
    "\n",
    "boto3.Session().resource('s3').Bucket(bucket_name).Object(key).upload_file(\"aiservices-train.csv\")\n",
    "\n",
    "\n",
    "StopWatch.stop('to_s3')\n",
    "\n",
    "print (StopWatch.get('to_s3'))"
   ]
  },
  {
   "cell_type": "markdown",
   "metadata": {},
   "source": [
    "## Creating the Dataset Group and Dataset <a class=\"anchor\" id=\"dataset\"></a>\n",
    "\n",
    "A dataset is a collection of file(s) having relevant data for forecasting task. A dataset must conform to a schema provided by Amazon Forecast. "
   ]
  },
  {
   "cell_type": "code",
   "execution_count": 15,
   "metadata": {},
   "outputs": [],
   "source": [
    "DATASET_FREQUENCY = \"H\" \n",
    "TIMESTAMP_FORMAT = \"yyyy-MM-dd hh:mm:ss\""
   ]
  },
  {
   "cell_type": "code",
   "execution_count": 16,
   "metadata": {},
   "outputs": [],
   "source": [
    "project = 'timeseries'\n",
    "datasetName= project+'_ds'\n",
    "datasetGroupName= project +'_dsg'\n",
    "s3DataPath = \"s3://\"+bucket_name+\"/\"+key"
   ]
  },
  {
   "cell_type": "markdown",
   "metadata": {},
   "source": [
    "### Create the Dataset Group"
   ]
  },
  {
   "cell_type": "code",
   "execution_count": 17,
   "metadata": {},
   "outputs": [
    {
     "name": "stdout",
     "output_type": "stream",
     "text": [
      "0\n"
     ]
    }
   ],
   "source": [
    "StopWatch.start('to_dsg')\n",
    "\n",
    "try:\n",
    "    create_dataset_group_response = forecast.create_dataset_group(DatasetGroupName=datasetGroupName, Domain=\"CUSTOM\",)\n",
    "    datasetGroupArn = create_dataset_group_response['DatasetGroupArn']\n",
    "except botocore.exceptions.ClientError as e:\n",
    "    if e.response['Error']['Code'] == \"ResourceAlreadyExistsException\":\n",
    "        response = forecast.list_dataset_groups(MaxResults=2)\n",
    "        datasetGroupArn = response['DatasetGroupArn']\n",
    "        print(response)\n",
    "        # The dataset already exists no need to re-create\n",
    "        print(\"\\nThe dataset group already exists\")\n",
    "    elif e.response['Error']['Code'] == \"ResourceInUseException\":\n",
    "        # The dataset already exists no need to re-create\n",
    "        print(\"The requested dataset group is in use\")\n",
    "\n",
    "StopWatch.stop('to_dsg')\n",
    "\n",
    "print (StopWatch.get('to_dsg'))"
   ]
  },
  {
   "cell_type": "code",
   "execution_count": 18,
   "metadata": {},
   "outputs": [
    {
     "data": {
      "text/plain": [
       "{'DatasetGroupName': 'timeseries_dsg',\n",
       " 'DatasetGroupArn': 'arn:aws:forecast:us-east-1:514439120157:dataset-group/timeseries_dsg',\n",
       " 'DatasetArns': [],\n",
       " 'Domain': 'CUSTOM',\n",
       " 'Status': 'ACTIVE',\n",
       " 'CreationTime': datetime.datetime(2020, 5, 2, 20, 45, 39, 277000, tzinfo=tzlocal()),\n",
       " 'LastModificationTime': datetime.datetime(2020, 5, 2, 20, 45, 39, 277000, tzinfo=tzlocal()),\n",
       " 'ResponseMetadata': {'RequestId': 'a1aea692-3866-4dd6-9a25-ae692ecc5ccb',\n",
       "  'HTTPStatusCode': 200,\n",
       "  'HTTPHeaders': {'content-type': 'application/x-amz-json-1.1',\n",
       "   'date': 'Sun, 03 May 2020 00:45:41 GMT',\n",
       "   'x-amzn-requestid': 'a1aea692-3866-4dd6-9a25-ae692ecc5ccb',\n",
       "   'content-length': '251',\n",
       "   'connection': 'keep-alive'},\n",
       "  'RetryAttempts': 0}}"
      ]
     },
     "execution_count": 18,
     "metadata": {},
     "output_type": "execute_result"
    }
   ],
   "source": [
    "forecast.describe_dataset_group(DatasetGroupArn=datasetGroupArn)"
   ]
  },
  {
   "cell_type": "markdown",
   "metadata": {},
   "source": [
    "### Create the Schema"
   ]
  },
  {
   "cell_type": "code",
   "execution_count": 19,
   "metadata": {},
   "outputs": [],
   "source": [
    "schema ={\n",
    "   \"Attributes\":[\n",
    "      {\n",
    "         \"AttributeName\":\"timestamp\",\n",
    "         \"AttributeType\":\"timestamp\"\n",
    "      },\n",
    "      {\n",
    "         \"AttributeName\":\"target_value\",\n",
    "         \"AttributeType\":\"float\"\n",
    "      },\n",
    "      {\n",
    "         \"AttributeName\":\"item_id\",\n",
    "         \"AttributeType\":\"string\"\n",
    "      }\n",
    "   ]\n",
    "}"
   ]
  },
  {
   "cell_type": "markdown",
   "metadata": {},
   "source": [
    "### Create the Dataset"
   ]
  },
  {
   "cell_type": "code",
   "execution_count": 20,
   "metadata": {},
   "outputs": [],
   "source": [
    "response=forecast.create_dataset(\n",
    "                    Domain=\"CUSTOM\",\n",
    "                    DatasetType='TARGET_TIME_SERIES',\n",
    "                    DatasetName=datasetName,\n",
    "                    DataFrequency=DATASET_FREQUENCY, \n",
    "                    Schema = schema\n",
    ")"
   ]
  },
  {
   "cell_type": "code",
   "execution_count": 21,
   "metadata": {},
   "outputs": [
    {
     "data": {
      "text/plain": [
       "{'DatasetArn': 'arn:aws:forecast:us-east-1:514439120157:dataset/timeseries_ds',\n",
       " 'DatasetName': 'timeseries_ds',\n",
       " 'Domain': 'CUSTOM',\n",
       " 'DatasetType': 'TARGET_TIME_SERIES',\n",
       " 'DataFrequency': 'H',\n",
       " 'Schema': {'Attributes': [{'AttributeName': 'timestamp',\n",
       "    'AttributeType': 'timestamp'},\n",
       "   {'AttributeName': 'target_value', 'AttributeType': 'float'},\n",
       "   {'AttributeName': 'item_id', 'AttributeType': 'string'}]},\n",
       " 'EncryptionConfig': {},\n",
       " 'Status': 'ACTIVE',\n",
       " 'CreationTime': datetime.datetime(2020, 5, 2, 20, 45, 52, 526000, tzinfo=tzlocal()),\n",
       " 'LastModificationTime': datetime.datetime(2020, 5, 2, 20, 45, 52, 526000, tzinfo=tzlocal()),\n",
       " 'ResponseMetadata': {'RequestId': '784e0d0e-4394-428e-adf8-25bc0e7cccd4',\n",
       "  'HTTPStatusCode': 200,\n",
       "  'HTTPHeaders': {'content-type': 'application/x-amz-json-1.1',\n",
       "   'date': 'Sun, 03 May 2020 00:45:56 GMT',\n",
       "   'x-amzn-requestid': '784e0d0e-4394-428e-adf8-25bc0e7cccd4',\n",
       "   'content-length': '487',\n",
       "   'connection': 'keep-alive'},\n",
       "  'RetryAttempts': 0}}"
      ]
     },
     "execution_count": 21,
     "metadata": {},
     "output_type": "execute_result"
    }
   ],
   "source": [
    "datasetArn = response['DatasetArn']\n",
    "forecast.describe_dataset(DatasetArn=datasetArn)"
   ]
  },
  {
   "cell_type": "markdown",
   "metadata": {},
   "source": [
    "### Add Dataset to Dataset Group"
   ]
  },
  {
   "cell_type": "code",
   "execution_count": 22,
   "metadata": {},
   "outputs": [
    {
     "data": {
      "text/plain": [
       "{'ResponseMetadata': {'RequestId': '4e32a597-4594-4361-b94b-209c07c5bc0d',\n",
       "  'HTTPStatusCode': 200,\n",
       "  'HTTPHeaders': {'content-type': 'application/x-amz-json-1.1',\n",
       "   'date': 'Sun, 03 May 2020 00:46:02 GMT',\n",
       "   'x-amzn-requestid': '4e32a597-4594-4361-b94b-209c07c5bc0d',\n",
       "   'content-length': '2',\n",
       "   'connection': 'keep-alive'},\n",
       "  'RetryAttempts': 0}}"
      ]
     },
     "execution_count": 22,
     "metadata": {},
     "output_type": "execute_result"
    }
   ],
   "source": [
    "forecast.update_dataset_group(DatasetGroupArn=datasetGroupArn, DatasetArns=[datasetArn])"
   ]
  },
  {
   "cell_type": "markdown",
   "metadata": {
    "toc-hr-collapsed": false
   },
   "source": [
    "### Create IAM Role for Forecast\n",
    "\n",
    "Like many AWS services, Forecast will need to assume an IAM role in order to interact with your S3 resources securely. In the sample notebooks, we use the get_or_create_iam_role() utility function to create an IAM role. Please refer to [\"notebooks/common/util/fcst_utils.py\"](../../common/util/fcst_utils.py) for implementation."
   ]
  },
  {
   "cell_type": "code",
   "execution_count": 23,
   "metadata": {},
   "outputs": [],
   "source": [
    "# Create the role to provide to Amazon Forecast.\n",
    "role_arn = 'arn:aws:iam::514439120157:role/ForecastRolePP'"
   ]
  },
  {
   "cell_type": "markdown",
   "metadata": {},
   "source": [
    "### Create Data Import Job\n",
    "\n",
    "\n",
    "Now that Forecast knows how to understand the CSV we are providing, the next step is to import the data from S3 into Amazon Forecaast."
   ]
  },
  {
   "cell_type": "code",
   "execution_count": 24,
   "metadata": {},
   "outputs": [],
   "source": [
    "datasetImportJobName = project +'_IMPORT_JOB'\n",
    "ds_import_job_response=forecast.create_dataset_import_job(DatasetImportJobName=datasetImportJobName,\n",
    "                                                          DatasetArn=datasetArn,\n",
    "                                                          DataSource= {\n",
    "                                                              \"S3Config\" : {\n",
    "                                                                 \"Path\":s3DataPath,\n",
    "                                                                 \"RoleArn\": role_arn\n",
    "                                                              } \n",
    "                                                          },\n",
    "                                                          TimestampFormat=TIMESTAMP_FORMAT\n",
    "                                                         )"
   ]
  },
  {
   "cell_type": "code",
   "execution_count": 25,
   "metadata": {},
   "outputs": [
    {
     "name": "stdout",
     "output_type": "stream",
     "text": [
      "arn:aws:forecast:us-east-1:514439120157:dataset-import-job/timeseries_ds/timeseries_IMPORT_JOB\n"
     ]
    }
   ],
   "source": [
    "ds_import_job_arn=ds_import_job_response['DatasetImportJobArn']\n",
    "print(ds_import_job_arn)"
   ]
  },
  {
   "cell_type": "code",
   "execution_count": 26,
   "metadata": {},
   "outputs": [
    {
     "data": {
      "text/plain": [
       "{'DatasetImportJobName': 'timeseries_IMPORT_JOB',\n",
       " 'DatasetImportJobArn': 'arn:aws:forecast:us-east-1:514439120157:dataset-import-job/timeseries_ds/timeseries_IMPORT_JOB',\n",
       " 'DatasetArn': 'arn:aws:forecast:us-east-1:514439120157:dataset/timeseries_ds',\n",
       " 'TimestampFormat': 'yyyy-MM-dd hh:mm:ss',\n",
       " 'DataSource': {'S3Config': {'Path': 's3://awsforecastassignnment/aiservices-train.csv',\n",
       "   'RoleArn': 'arn:aws:iam::514439120157:role/ForecastRolePP'}},\n",
       " 'FieldStatistics': {'item_id': {'Count': 2268840,\n",
       "   'CountDistinct': 370,\n",
       "   'CountNull': 0},\n",
       "  'target_value': {'Count': 2268840,\n",
       "   'CountDistinct': 966884,\n",
       "   'CountNull': 0,\n",
       "   'CountNan': 0,\n",
       "   'Min': '0.0',\n",
       "   'Max': '161650.0',\n",
       "   'Avg': 605.7384526931876,\n",
       "   'Stddev': 3501.5804493368205},\n",
       "  'timestamp': {'Count': 2268840,\n",
       "   'CountDistinct': 8760,\n",
       "   'CountNull': 0,\n",
       "   'Min': '2014-01-01T01:00:00Z',\n",
       "   'Max': '2015-01-01T00:00:00Z'}},\n",
       " 'DataSize': 0.10458486154675484,\n",
       " 'Status': 'ACTIVE',\n",
       " 'CreationTime': datetime.datetime(2020, 5, 2, 20, 46, 7, 348000, tzinfo=tzlocal()),\n",
       " 'LastModificationTime': datetime.datetime(2020, 5, 2, 20, 48, 14, 550000, tzinfo=tzlocal()),\n",
       " 'ResponseMetadata': {'RequestId': '73eca5b4-9db2-41c9-8eda-49b7e2468c42',\n",
       "  'HTTPStatusCode': 200,\n",
       "  'HTTPHeaders': {'content-type': 'application/x-amz-json-1.1',\n",
       "   'date': 'Sun, 03 May 2020 00:55:13 GMT',\n",
       "   'x-amzn-requestid': '73eca5b4-9db2-41c9-8eda-49b7e2468c42',\n",
       "   'content-length': '1124',\n",
       "   'connection': 'keep-alive'},\n",
       "  'RetryAttempts': 0}}"
      ]
     },
     "execution_count": 26,
     "metadata": {},
     "output_type": "execute_result"
    }
   ],
   "source": [
    "forecast.describe_dataset_import_job(DatasetImportJobArn=ds_import_job_arn)"
   ]
  },
  {
   "cell_type": "code",
   "execution_count": 27,
   "metadata": {},
   "outputs": [],
   "source": [
    "predictorName= project+'_deeparp_algo'"
   ]
  },
  {
   "cell_type": "code",
   "execution_count": 28,
   "metadata": {},
   "outputs": [],
   "source": [
    "forecastHorizon = 24"
   ]
  },
  {
   "cell_type": "code",
   "execution_count": 30,
   "metadata": {},
   "outputs": [],
   "source": [
    "algorithmArn = 'arn:aws:forecast:::algorithm/Deep_AR_Plus'"
   ]
  },
  {
   "cell_type": "code",
   "execution_count": 31,
   "metadata": {},
   "outputs": [],
   "source": [
    "create_predictor_response=forecast.create_predictor(PredictorName=predictorName, \n",
    "                                                  AlgorithmArn=algorithmArn,\n",
    "                                                  ForecastHorizon=forecastHorizon,\n",
    "                                                  PerformAutoML= False,\n",
    "                                                  PerformHPO=False,\n",
    "                                                  EvaluationParameters= {\"NumberOfBacktestWindows\": 1, \n",
    "                                                                         \"BackTestWindowOffset\": 24}, \n",
    "                                                  InputDataConfig= {\"DatasetGroupArn\": datasetGroupArn},\n",
    "                                                  FeaturizationConfig= {\"ForecastFrequency\": \"H\", \n",
    "                                                                        \"Featurizations\": \n",
    "                                                                        [\n",
    "                                                                          {\"AttributeName\": \"target_value\", \n",
    "                                                                           \"FeaturizationPipeline\": \n",
    "                                                                            [\n",
    "                                                                              {\"FeaturizationMethodName\": \"filling\", \n",
    "                                                                               \"FeaturizationMethodParameters\": \n",
    "                                                                                {\"frontfill\": \"none\", \n",
    "                                                                                 \"middlefill\": \"zero\", \n",
    "                                                                                 \"backfill\": \"zero\"}\n",
    "                                                                              }\n",
    "                                                                            ]\n",
    "                                                                          }\n",
    "                                                                        ]\n",
    "                                                                       }\n",
    "                                                 )"
   ]
  },
  {
   "cell_type": "code",
   "execution_count": 32,
   "metadata": {},
   "outputs": [],
   "source": [
    "predictor_arn=create_predictor_response['PredictorArn']"
   ]
  },
  {
   "cell_type": "code",
   "execution_count": 33,
   "metadata": {},
   "outputs": [
    {
     "data": {
      "text/plain": [
       "{'PredictorEvaluationResults': [{'AlgorithmArn': 'arn:aws:forecast:::algorithm/Deep_AR_Plus',\n",
       "   'TestWindows': [{'EvaluationType': 'SUMMARY',\n",
       "     'Metrics': {'RMSE': 1081.3781117963604,\n",
       "      'WeightedQuantileLosses': [{'Quantile': 0.9,\n",
       "        'LossValue': 0.20844487211987164},\n",
       "       {'Quantile': 0.5, 'LossValue': 0.6132735835067266},\n",
       "       {'Quantile': 0.1, 'LossValue': 0.2872338279904813}]}},\n",
       "    {'TestWindowStart': datetime.datetime(2014, 12, 30, 20, 0, tzinfo=tzlocal()),\n",
       "     'TestWindowEnd': datetime.datetime(2014, 12, 31, 20, 0, tzinfo=tzlocal()),\n",
       "     'ItemCount': 370,\n",
       "     'EvaluationType': 'COMPUTED',\n",
       "     'Metrics': {'RMSE': 1081.3781117963601,\n",
       "      'WeightedQuantileLosses': [{'Quantile': 0.9,\n",
       "        'LossValue': 0.20844487211987148},\n",
       "       {'Quantile': 0.5, 'LossValue': 0.6132735835067267},\n",
       "       {'Quantile': 0.1, 'LossValue': 0.28723382799048125}]}}]}],\n",
       " 'ResponseMetadata': {'RequestId': 'd5e0979c-5a29-471b-a680-bd3f2e9240b1',\n",
       "  'HTTPStatusCode': 200,\n",
       "  'HTTPHeaders': {'content-type': 'application/x-amz-json-1.1',\n",
       "   'date': 'Sun, 03 May 2020 01:36:12 GMT',\n",
       "   'x-amzn-requestid': 'd5e0979c-5a29-471b-a680-bd3f2e9240b1',\n",
       "   'content-length': '662',\n",
       "   'connection': 'keep-alive'},\n",
       "  'RetryAttempts': 0}}"
      ]
     },
     "execution_count": 33,
     "metadata": {},
     "output_type": "execute_result"
    }
   ],
   "source": [
    "forecast.get_accuracy_metrics(PredictorArn=predictor_arn)"
   ]
  },
  {
   "cell_type": "code",
   "execution_count": 34,
   "metadata": {},
   "outputs": [],
   "source": [
    "forecastName= project+'_deeparp_algo_forecast'"
   ]
  },
  {
   "cell_type": "code",
   "execution_count": 35,
   "metadata": {},
   "outputs": [],
   "source": [
    "create_forecast_response=forecast.create_forecast(ForecastName=forecastName,\n",
    "                                                  PredictorArn=predictor_arn)\n",
    "forecast_arn = create_forecast_response['ForecastArn']"
   ]
  },
  {
   "cell_type": "code",
   "execution_count": 36,
   "metadata": {},
   "outputs": [
    {
     "name": "stdout",
     "output_type": "stream",
     "text": [
      "arn:aws:forecast:us-east-1:514439120157:forecast/timeseries_deeparp_algo_forecast\n",
      "\n",
      "{'Forecast': {'Predictions': {'p10': [{'Timestamp': '2015-01-01T01:00:00', 'Value': 2.854999542236328}, {'Timestamp': '2015-01-01T02:00:00', 'Value': -0.5054550170898438}, {'Timestamp': '2015-01-01T03:00:00', 'Value': -4.329229354858398}, {'Timestamp': '2015-01-01T04:00:00', 'Value': 3.7130966186523438}, {'Timestamp': '2015-01-01T05:00:00', 'Value': 8.358659744262695}, {'Timestamp': '2015-01-01T06:00:00', 'Value': 3.3343963623046875}, {'Timestamp': '2015-01-01T07:00:00', 'Value': 9.908599853515625}, {'Timestamp': '2015-01-01T08:00:00', 'Value': 5.467678070068359}, {'Timestamp': '2015-01-01T09:00:00', 'Value': -19.981929779052734}, {'Timestamp': '2015-01-01T10:00:00', 'Value': -6.564189910888672}, {'Timestamp': '2015-01-01T11:00:00', 'Value': 7.586402893066406}, {'Timestamp': '2015-01-01T12:00:00', 'Value': -2.343963623046875}, {'Timestamp': '2015-01-01T13:00:00', 'Value': -1.9741439819335938}, {'Timestamp': '2015-01-01T14:00:00', 'Value': 8.029659271240234}, {'Timestamp': '2015-01-01T15:00:00', 'Value': 9.636711120605469}, {'Timestamp': '2015-01-01T16:00:00', 'Value': -8.537261962890625}, {'Timestamp': '2015-01-01T17:00:00', 'Value': 11.051887512207031}, {'Timestamp': '2015-01-01T18:00:00', 'Value': 12.686614990234375}, {'Timestamp': '2015-01-01T19:00:00', 'Value': -0.0224761962890625}, {'Timestamp': '2015-01-01T20:00:00', 'Value': 5.439373016357422}, {'Timestamp': '2015-01-01T21:00:00', 'Value': -4.573966979980469}, {'Timestamp': '2015-01-01T22:00:00', 'Value': 6.070745468139648}, {'Timestamp': '2015-01-01T23:00:00', 'Value': 4.546360015869141}, {'Timestamp': '2015-01-02T00:00:00', 'Value': -2.835559844970703}], 'p50': [{'Timestamp': '2015-01-01T01:00:00', 'Value': 37.53493881225586}, {'Timestamp': '2015-01-01T02:00:00', 'Value': 28.671592712402344}, {'Timestamp': '2015-01-01T03:00:00', 'Value': 27.11680030822754}, {'Timestamp': '2015-01-01T04:00:00', 'Value': 30.92552375793457}, {'Timestamp': '2015-01-01T05:00:00', 'Value': 35.95096969604492}, {'Timestamp': '2015-01-01T06:00:00', 'Value': 27.733945846557617}, {'Timestamp': '2015-01-01T07:00:00', 'Value': 35.35352325439453}, {'Timestamp': '2015-01-01T08:00:00', 'Value': 47.082435607910156}, {'Timestamp': '2015-01-01T09:00:00', 'Value': 50.48989486694336}, {'Timestamp': '2015-01-01T10:00:00', 'Value': 52.955848693847656}, {'Timestamp': '2015-01-01T11:00:00', 'Value': 71.40904235839844}, {'Timestamp': '2015-01-01T12:00:00', 'Value': 73.94789123535156}, {'Timestamp': '2015-01-01T13:00:00', 'Value': 46.768516540527344}, {'Timestamp': '2015-01-01T14:00:00', 'Value': 55.75983810424805}, {'Timestamp': '2015-01-01T15:00:00', 'Value': 60.63913345336914}, {'Timestamp': '2015-01-01T16:00:00', 'Value': 53.55258560180664}, {'Timestamp': '2015-01-01T17:00:00', 'Value': 62.76712417602539}, {'Timestamp': '2015-01-01T18:00:00', 'Value': 64.62648010253906}, {'Timestamp': '2015-01-01T19:00:00', 'Value': 66.74935150146484}, {'Timestamp': '2015-01-01T20:00:00', 'Value': 50.08264923095703}, {'Timestamp': '2015-01-01T21:00:00', 'Value': 39.65332794189453}, {'Timestamp': '2015-01-01T22:00:00', 'Value': 37.475860595703125}, {'Timestamp': '2015-01-01T23:00:00', 'Value': 42.449737548828125}, {'Timestamp': '2015-01-02T00:00:00', 'Value': 29.314149856567383}], 'p90': [{'Timestamp': '2015-01-01T01:00:00', 'Value': 71.65203857421875}, {'Timestamp': '2015-01-01T02:00:00', 'Value': 58.721466064453125}, {'Timestamp': '2015-01-01T03:00:00', 'Value': 48.29576110839844}, {'Timestamp': '2015-01-01T04:00:00', 'Value': 64.47687530517578}, {'Timestamp': '2015-01-01T05:00:00', 'Value': 62.0453987121582}, {'Timestamp': '2015-01-01T06:00:00', 'Value': 51.91530990600586}, {'Timestamp': '2015-01-01T07:00:00', 'Value': 58.2230110168457}, {'Timestamp': '2015-01-01T08:00:00', 'Value': 84.89201354980469}, {'Timestamp': '2015-01-01T09:00:00', 'Value': 124.32977294921875}, {'Timestamp': '2015-01-01T10:00:00', 'Value': 109.34317016601562}, {'Timestamp': '2015-01-01T11:00:00', 'Value': 125.68391418457031}, {'Timestamp': '2015-01-01T12:00:00', 'Value': 155.13412475585938}, {'Timestamp': '2015-01-01T13:00:00', 'Value': 114.37834167480469}, {'Timestamp': '2015-01-01T14:00:00', 'Value': 118.50680541992188}, {'Timestamp': '2015-01-01T15:00:00', 'Value': 117.77420806884766}, {'Timestamp': '2015-01-01T16:00:00', 'Value': 119.82030487060547}, {'Timestamp': '2015-01-01T17:00:00', 'Value': 112.39828491210938}, {'Timestamp': '2015-01-01T18:00:00', 'Value': 141.60667419433594}, {'Timestamp': '2015-01-01T19:00:00', 'Value': 135.7774200439453}, {'Timestamp': '2015-01-01T20:00:00', 'Value': 106.4503173828125}, {'Timestamp': '2015-01-01T21:00:00', 'Value': 109.32242584228516}, {'Timestamp': '2015-01-01T22:00:00', 'Value': 68.21923828125}, {'Timestamp': '2015-01-01T23:00:00', 'Value': 78.07511901855469}, {'Timestamp': '2015-01-02T00:00:00', 'Value': 68.30559539794922}]}}, 'ResponseMetadata': {'RequestId': 'f5595034-7d66-41c1-88f1-7f8c664fabb2', 'HTTPStatusCode': 200, 'HTTPHeaders': {'content-type': 'application/x-amz-json-1.1', 'date': 'Sun, 03 May 2020 02:08:55 GMT', 'x-amzn-requestid': 'f5595034-7d66-41c1-88f1-7f8c664fabb2', 'content-length': '4551', 'connection': 'keep-alive'}, 'RetryAttempts': 0}}\n"
     ]
    }
   ],
   "source": [
    "print(forecast_arn)\n",
    "print()\n",
    "forecastResponse = forecastquery.query_forecast(\n",
    "    ForecastArn=forecast_arn,\n",
    "    Filters={\"item_id\":\"client_12\"}\n",
    ")\n",
    "print(forecastResponse)"
   ]
  },
  {
   "cell_type": "code",
   "execution_count": 55,
   "metadata": {},
   "outputs": [
    {
     "data": {
      "text/html": [
       "<div>\n",
       "<style scoped>\n",
       "    .dataframe tbody tr th:only-of-type {\n",
       "        vertical-align: middle;\n",
       "    }\n",
       "\n",
       "    .dataframe tbody tr th {\n",
       "        vertical-align: top;\n",
       "    }\n",
       "\n",
       "    .dataframe thead th {\n",
       "        text-align: right;\n",
       "    }\n",
       "</style>\n",
       "<table border=\"1\" class=\"dataframe\">\n",
       "  <thead>\n",
       "    <tr style=\"text-align: right;\">\n",
       "      <th></th>\n",
       "      <th>timestamp</th>\n",
       "      <th>value</th>\n",
       "      <th>item_id</th>\n",
       "    </tr>\n",
       "  </thead>\n",
       "  <tbody>\n",
       "    <tr>\n",
       "      <th>0</th>\n",
       "      <td>2014-10-17 22:00:00</td>\n",
       "      <td>1405.103668</td>\n",
       "      <td>client_357</td>\n",
       "    </tr>\n",
       "    <tr>\n",
       "      <th>1</th>\n",
       "      <td>2014-07-09 11:00:00</td>\n",
       "      <td>35.682819</td>\n",
       "      <td>client_19</td>\n",
       "    </tr>\n",
       "    <tr>\n",
       "      <th>2</th>\n",
       "      <td>2014-11-14 23:00:00</td>\n",
       "      <td>229.874042</td>\n",
       "      <td>client_104</td>\n",
       "    </tr>\n",
       "    <tr>\n",
       "      <th>3</th>\n",
       "      <td>2014-11-29 03:00:00</td>\n",
       "      <td>3.012048</td>\n",
       "      <td>client_94</td>\n",
       "    </tr>\n",
       "    <tr>\n",
       "      <th>4</th>\n",
       "      <td>2014-10-20 16:00:00</td>\n",
       "      <td>4673.913043</td>\n",
       "      <td>client_223</td>\n",
       "    </tr>\n",
       "  </tbody>\n",
       "</table>\n",
       "</div>"
      ],
      "text/plain": [
       "             timestamp        value     item_id\n",
       "0  2014-10-17 22:00:00  1405.103668  client_357\n",
       "1  2014-07-09 11:00:00    35.682819   client_19\n",
       "2  2014-11-14 23:00:00   229.874042  client_104\n",
       "3  2014-11-29 03:00:00     3.012048   client_94\n",
       "4  2014-10-20 16:00:00  4673.913043  client_223"
      ]
     },
     "execution_count": 55,
     "metadata": {},
     "output_type": "execute_result"
    }
   ],
   "source": [
    "actual_df= pd.read_csv(\"aiservices-test.csv\", names=['timestamp','value','item_id'])\n",
    "actual_df.head()"
   ]
  },
  {
   "cell_type": "code",
   "execution_count": 56,
   "metadata": {},
   "outputs": [],
   "source": [
    "actual_df = actual_df[(actual_df['timestamp'] >= '2014-10-31') & (actual_df['timestamp'] < '2014-11-01')]"
   ]
  },
  {
   "cell_type": "code",
   "execution_count": 57,
   "metadata": {},
   "outputs": [],
   "source": [
    "actual_df = actual_df[(actual_df['item_id'] == 'client_12')]\n"
   ]
  },
  {
   "cell_type": "code",
   "execution_count": 58,
   "metadata": {},
   "outputs": [
    {
     "data": {
      "text/html": [
       "<div>\n",
       "<style scoped>\n",
       "    .dataframe tbody tr th:only-of-type {\n",
       "        vertical-align: middle;\n",
       "    }\n",
       "\n",
       "    .dataframe tbody tr th {\n",
       "        vertical-align: top;\n",
       "    }\n",
       "\n",
       "    .dataframe thead th {\n",
       "        text-align: right;\n",
       "    }\n",
       "</style>\n",
       "<table border=\"1\" class=\"dataframe\">\n",
       "  <thead>\n",
       "    <tr style=\"text-align: right;\">\n",
       "      <th></th>\n",
       "      <th>timestamp</th>\n",
       "      <th>value</th>\n",
       "      <th>item_id</th>\n",
       "    </tr>\n",
       "  </thead>\n",
       "  <tbody>\n",
       "    <tr>\n",
       "      <th>346</th>\n",
       "      <td>2014-10-31 10:00:00</td>\n",
       "      <td>291.971831</td>\n",
       "      <td>client_201</td>\n",
       "    </tr>\n",
       "    <tr>\n",
       "      <th>496</th>\n",
       "      <td>2014-10-31 05:00:00</td>\n",
       "      <td>35.260483</td>\n",
       "      <td>client_41</td>\n",
       "    </tr>\n",
       "    <tr>\n",
       "      <th>518</th>\n",
       "      <td>2014-10-31 22:00:00</td>\n",
       "      <td>117.834138</td>\n",
       "      <td>client_301</td>\n",
       "    </tr>\n",
       "    <tr>\n",
       "      <th>690</th>\n",
       "      <td>2014-10-31 00:00:00</td>\n",
       "      <td>1908.273381</td>\n",
       "      <td>client_190</td>\n",
       "    </tr>\n",
       "    <tr>\n",
       "      <th>1141</th>\n",
       "      <td>2014-10-31 01:00:00</td>\n",
       "      <td>757.023705</td>\n",
       "      <td>client_366</td>\n",
       "    </tr>\n",
       "  </tbody>\n",
       "</table>\n",
       "</div>"
      ],
      "text/plain": [
       "                timestamp        value     item_id\n",
       "346   2014-10-31 10:00:00   291.971831  client_201\n",
       "496   2014-10-31 05:00:00    35.260483   client_41\n",
       "518   2014-10-31 22:00:00   117.834138  client_301\n",
       "690   2014-10-31 00:00:00  1908.273381  client_190\n",
       "1141  2014-10-31 01:00:00   757.023705  client_366"
      ]
     },
     "execution_count": 58,
     "metadata": {},
     "output_type": "execute_result"
    }
   ],
   "source": [
    "actual_df_new.head()"
   ]
  },
  {
   "cell_type": "code",
   "execution_count": 59,
   "metadata": {},
   "outputs": [
    {
     "data": {
      "text/html": [
       "<div>\n",
       "<style scoped>\n",
       "    .dataframe tbody tr th:only-of-type {\n",
       "        vertical-align: middle;\n",
       "    }\n",
       "\n",
       "    .dataframe tbody tr th {\n",
       "        vertical-align: top;\n",
       "    }\n",
       "\n",
       "    .dataframe thead th {\n",
       "        text-align: right;\n",
       "    }\n",
       "</style>\n",
       "<table border=\"1\" class=\"dataframe\">\n",
       "  <thead>\n",
       "    <tr style=\"text-align: right;\">\n",
       "      <th></th>\n",
       "      <th>Timestamp</th>\n",
       "      <th>Value</th>\n",
       "    </tr>\n",
       "  </thead>\n",
       "  <tbody>\n",
       "    <tr>\n",
       "      <th>0</th>\n",
       "      <td>2015-01-01T01:00:00</td>\n",
       "      <td>2.855000</td>\n",
       "    </tr>\n",
       "    <tr>\n",
       "      <th>1</th>\n",
       "      <td>2015-01-01T02:00:00</td>\n",
       "      <td>-0.505455</td>\n",
       "    </tr>\n",
       "    <tr>\n",
       "      <th>2</th>\n",
       "      <td>2015-01-01T03:00:00</td>\n",
       "      <td>-4.329229</td>\n",
       "    </tr>\n",
       "    <tr>\n",
       "      <th>3</th>\n",
       "      <td>2015-01-01T04:00:00</td>\n",
       "      <td>3.713097</td>\n",
       "    </tr>\n",
       "    <tr>\n",
       "      <th>4</th>\n",
       "      <td>2015-01-01T05:00:00</td>\n",
       "      <td>8.358660</td>\n",
       "    </tr>\n",
       "  </tbody>\n",
       "</table>\n",
       "</div>"
      ],
      "text/plain": [
       "             Timestamp     Value\n",
       "0  2015-01-01T01:00:00  2.855000\n",
       "1  2015-01-01T02:00:00 -0.505455\n",
       "2  2015-01-01T03:00:00 -4.329229\n",
       "3  2015-01-01T04:00:00  3.713097\n",
       "4  2015-01-01T05:00:00  8.358660"
      ]
     },
     "execution_count": 59,
     "metadata": {},
     "output_type": "execute_result"
    }
   ],
   "source": [
    "pred_df_p10 = pd.DataFrame.from_dict(forecastResponse['Forecast']['Predictions']['p10'])\n",
    "pred_df_p10.head()"
   ]
  },
  {
   "cell_type": "code",
   "execution_count": 60,
   "metadata": {},
   "outputs": [
    {
     "data": {
      "text/plain": [
       "<matplotlib.axes._subplots.AxesSubplot at 0x114e7cd0>"
      ]
     },
     "execution_count": 60,
     "metadata": {},
     "output_type": "execute_result"
    },
    {
     "data": {
      "image/png": "[encoded data removed]",
      "text/plain": [
       "<Figure size 432x288 with 1 Axes>"
      ]
     },
     "metadata": {
      "needs_background": "light"
     },
     "output_type": "display_data"
    }
   ],
   "source": [
    "pred_df_p10.plot()"
   ]
  },
  {
   "cell_type": "code",
   "execution_count": 61,
   "metadata": {},
   "outputs": [],
   "source": [
    "pred_df_p50 = pd.DataFrame.from_dict(forecastResponse['Forecast']['Predictions']['p50'])\n",
    "pred_df_p90 = pd.DataFrame.from_dict(forecastResponse['Forecast']['Predictions']['p90'])"
   ]
  },
  {
   "cell_type": "code",
   "execution_count": 62,
   "metadata": {},
   "outputs": [],
   "source": [
    "results_df = pd.DataFrame(columns=['timestamp', 'value', 'source'])"
   ]
  },
  {
   "cell_type": "code",
   "execution_count": 63,
   "metadata": {},
   "outputs": [],
   "source": [
    "for index, row in actual_df.iterrows():\n",
    "    clean_timestamp = dateutil.parser.parse(row['timestamp'])\n",
    "    results_df = results_df.append({'timestamp' : clean_timestamp , 'value' : row['value'], 'source': 'actual'} , ignore_index=True)"
   ]
  },
  {
   "cell_type": "code",
   "execution_count": 64,
   "metadata": {},
   "outputs": [
    {
     "data": {
      "text/html": [
       "<div>\n",
       "<style scoped>\n",
       "    .dataframe tbody tr th:only-of-type {\n",
       "        vertical-align: middle;\n",
       "    }\n",
       "\n",
       "    .dataframe tbody tr th {\n",
       "        vertical-align: top;\n",
       "    }\n",
       "\n",
       "    .dataframe thead th {\n",
       "        text-align: right;\n",
       "    }\n",
       "</style>\n",
       "<table border=\"1\" class=\"dataframe\">\n",
       "  <thead>\n",
       "    <tr style=\"text-align: right;\">\n",
       "      <th></th>\n",
       "      <th>timestamp</th>\n",
       "      <th>value</th>\n",
       "      <th>source</th>\n",
       "    </tr>\n",
       "  </thead>\n",
       "  <tbody>\n",
       "    <tr>\n",
       "      <th>0</th>\n",
       "      <td>2014-10-31 11:00:00</td>\n",
       "      <td>164.179104</td>\n",
       "      <td>actual</td>\n",
       "    </tr>\n",
       "    <tr>\n",
       "      <th>1</th>\n",
       "      <td>2014-10-31 21:00:00</td>\n",
       "      <td>72.139303</td>\n",
       "      <td>actual</td>\n",
       "    </tr>\n",
       "    <tr>\n",
       "      <th>2</th>\n",
       "      <td>2014-10-31 18:00:00</td>\n",
       "      <td>169.983416</td>\n",
       "      <td>actual</td>\n",
       "    </tr>\n",
       "    <tr>\n",
       "      <th>3</th>\n",
       "      <td>2014-10-31 20:00:00</td>\n",
       "      <td>127.280265</td>\n",
       "      <td>actual</td>\n",
       "    </tr>\n",
       "    <tr>\n",
       "      <th>4</th>\n",
       "      <td>2014-10-31 13:00:00</td>\n",
       "      <td>147.595357</td>\n",
       "      <td>actual</td>\n",
       "    </tr>\n",
       "  </tbody>\n",
       "</table>\n",
       "</div>"
      ],
      "text/plain": [
       "            timestamp       value  source\n",
       "0 2014-10-31 11:00:00  164.179104  actual\n",
       "1 2014-10-31 21:00:00   72.139303  actual\n",
       "2 2014-10-31 18:00:00  169.983416  actual\n",
       "3 2014-10-31 20:00:00  127.280265  actual\n",
       "4 2014-10-31 13:00:00  147.595357  actual"
      ]
     },
     "execution_count": 64,
     "metadata": {},
     "output_type": "execute_result"
    }
   ],
   "source": [
    "results_df.head()"
   ]
  },
  {
   "cell_type": "code",
   "execution_count": 66,
   "metadata": {},
   "outputs": [],
   "source": [
    "# Now add the P10, P50, and P90 Values\n",
    "for index, row in pred_df_p10.iterrows():\n",
    "    clean_timestamp = dateutil.parser.parse(row['Timestamp'])\n",
    "    results_df = results_df.append({'timestamp' : clean_timestamp , 'value' : row['Value'], 'source': 'p10'} , ignore_index=True)\n",
    "for index, row in pred_df_p50.iterrows():\n",
    "    clean_timestamp = dateutil.parser.parse(row['Timestamp'])\n",
    "    results_df = results_df.append({'timestamp' : clean_timestamp , 'value' : row['Value'], 'source': 'p50'} , ignore_index=True)\n",
    "for index, row in pred_df_p90.iterrows():\n",
    "    clean_timestamp = dateutil.parser.parse(row['Timestamp'])\n",
    "    results_df = results_df.append({'timestamp' : clean_timestamp , 'value' : row['Value'], 'source': 'p90'} , ignore_index=True)"
   ]
  },
  {
   "cell_type": "code",
   "execution_count": 68,
   "metadata": {},
   "outputs": [
    {
     "data": {
      "text/html": [
       "<div>\n",
       "<style scoped>\n",
       "    .dataframe tbody tr th:only-of-type {\n",
       "        vertical-align: middle;\n",
       "    }\n",
       "\n",
       "    .dataframe tbody tr th {\n",
       "        vertical-align: top;\n",
       "    }\n",
       "\n",
       "    .dataframe thead th {\n",
       "        text-align: right;\n",
       "    }\n",
       "</style>\n",
       "<table border=\"1\" class=\"dataframe\">\n",
       "  <thead>\n",
       "    <tr style=\"text-align: right;\">\n",
       "      <th>source</th>\n",
       "      <th>actual</th>\n",
       "      <th>p10</th>\n",
       "      <th>p50</th>\n",
       "      <th>p90</th>\n",
       "    </tr>\n",
       "    <tr>\n",
       "      <th>timestamp</th>\n",
       "      <th></th>\n",
       "      <th></th>\n",
       "      <th></th>\n",
       "      <th></th>\n",
       "    </tr>\n",
       "  </thead>\n",
       "  <tbody>\n",
       "    <tr>\n",
       "      <th>2014-10-31 06:00:00</th>\n",
       "      <td>47.470978</td>\n",
       "      <td>NaN</td>\n",
       "      <td>NaN</td>\n",
       "      <td>NaN</td>\n",
       "    </tr>\n",
       "    <tr>\n",
       "      <th>2014-10-31 11:00:00</th>\n",
       "      <td>164.179104</td>\n",
       "      <td>NaN</td>\n",
       "      <td>NaN</td>\n",
       "      <td>NaN</td>\n",
       "    </tr>\n",
       "    <tr>\n",
       "      <th>2014-10-31 12:00:00</th>\n",
       "      <td>172.056385</td>\n",
       "      <td>NaN</td>\n",
       "      <td>NaN</td>\n",
       "      <td>NaN</td>\n",
       "    </tr>\n",
       "    <tr>\n",
       "      <th>2014-10-31 13:00:00</th>\n",
       "      <td>147.595357</td>\n",
       "      <td>NaN</td>\n",
       "      <td>NaN</td>\n",
       "      <td>NaN</td>\n",
       "    </tr>\n",
       "    <tr>\n",
       "      <th>2014-10-31 16:00:00</th>\n",
       "      <td>148.631841</td>\n",
       "      <td>NaN</td>\n",
       "      <td>NaN</td>\n",
       "      <td>NaN</td>\n",
       "    </tr>\n",
       "    <tr>\n",
       "      <th>2014-10-31 18:00:00</th>\n",
       "      <td>169.983416</td>\n",
       "      <td>NaN</td>\n",
       "      <td>NaN</td>\n",
       "      <td>NaN</td>\n",
       "    </tr>\n",
       "    <tr>\n",
       "      <th>2014-10-31 20:00:00</th>\n",
       "      <td>127.280265</td>\n",
       "      <td>NaN</td>\n",
       "      <td>NaN</td>\n",
       "      <td>NaN</td>\n",
       "    </tr>\n",
       "    <tr>\n",
       "      <th>2014-10-31 21:00:00</th>\n",
       "      <td>72.139303</td>\n",
       "      <td>NaN</td>\n",
       "      <td>NaN</td>\n",
       "      <td>NaN</td>\n",
       "    </tr>\n",
       "    <tr>\n",
       "      <th>2015-01-01 01:00:00</th>\n",
       "      <td>NaN</td>\n",
       "      <td>2.855000</td>\n",
       "      <td>37.534939</td>\n",
       "      <td>71.652039</td>\n",
       "    </tr>\n",
       "    <tr>\n",
       "      <th>2015-01-01 02:00:00</th>\n",
       "      <td>NaN</td>\n",
       "      <td>-0.505455</td>\n",
       "      <td>28.671593</td>\n",
       "      <td>58.721466</td>\n",
       "    </tr>\n",
       "    <tr>\n",
       "      <th>2015-01-01 03:00:00</th>\n",
       "      <td>NaN</td>\n",
       "      <td>-4.329229</td>\n",
       "      <td>27.116800</td>\n",
       "      <td>48.295761</td>\n",
       "    </tr>\n",
       "    <tr>\n",
       "      <th>2015-01-01 04:00:00</th>\n",
       "      <td>NaN</td>\n",
       "      <td>3.713097</td>\n",
       "      <td>30.925524</td>\n",
       "      <td>64.476875</td>\n",
       "    </tr>\n",
       "    <tr>\n",
       "      <th>2015-01-01 05:00:00</th>\n",
       "      <td>NaN</td>\n",
       "      <td>8.358660</td>\n",
       "      <td>35.950970</td>\n",
       "      <td>62.045399</td>\n",
       "    </tr>\n",
       "    <tr>\n",
       "      <th>2015-01-01 06:00:00</th>\n",
       "      <td>NaN</td>\n",
       "      <td>3.334396</td>\n",
       "      <td>27.733946</td>\n",
       "      <td>51.915310</td>\n",
       "    </tr>\n",
       "    <tr>\n",
       "      <th>2015-01-01 07:00:00</th>\n",
       "      <td>NaN</td>\n",
       "      <td>9.908600</td>\n",
       "      <td>35.353523</td>\n",
       "      <td>58.223011</td>\n",
       "    </tr>\n",
       "    <tr>\n",
       "      <th>2015-01-01 08:00:00</th>\n",
       "      <td>NaN</td>\n",
       "      <td>5.467678</td>\n",
       "      <td>47.082436</td>\n",
       "      <td>84.892014</td>\n",
       "    </tr>\n",
       "    <tr>\n",
       "      <th>2015-01-01 09:00:00</th>\n",
       "      <td>NaN</td>\n",
       "      <td>-19.981930</td>\n",
       "      <td>50.489895</td>\n",
       "      <td>124.329773</td>\n",
       "    </tr>\n",
       "    <tr>\n",
       "      <th>2015-01-01 10:00:00</th>\n",
       "      <td>NaN</td>\n",
       "      <td>-6.564190</td>\n",
       "      <td>52.955849</td>\n",
       "      <td>109.343170</td>\n",
       "    </tr>\n",
       "    <tr>\n",
       "      <th>2015-01-01 11:00:00</th>\n",
       "      <td>NaN</td>\n",
       "      <td>7.586403</td>\n",
       "      <td>71.409042</td>\n",
       "      <td>125.683914</td>\n",
       "    </tr>\n",
       "    <tr>\n",
       "      <th>2015-01-01 12:00:00</th>\n",
       "      <td>NaN</td>\n",
       "      <td>-2.343964</td>\n",
       "      <td>73.947891</td>\n",
       "      <td>155.134125</td>\n",
       "    </tr>\n",
       "    <tr>\n",
       "      <th>2015-01-01 13:00:00</th>\n",
       "      <td>NaN</td>\n",
       "      <td>-1.974144</td>\n",
       "      <td>46.768517</td>\n",
       "      <td>114.378342</td>\n",
       "    </tr>\n",
       "    <tr>\n",
       "      <th>2015-01-01 14:00:00</th>\n",
       "      <td>NaN</td>\n",
       "      <td>8.029659</td>\n",
       "      <td>55.759838</td>\n",
       "      <td>118.506805</td>\n",
       "    </tr>\n",
       "    <tr>\n",
       "      <th>2015-01-01 15:00:00</th>\n",
       "      <td>NaN</td>\n",
       "      <td>9.636711</td>\n",
       "      <td>60.639133</td>\n",
       "      <td>117.774208</td>\n",
       "    </tr>\n",
       "    <tr>\n",
       "      <th>2015-01-01 16:00:00</th>\n",
       "      <td>NaN</td>\n",
       "      <td>-8.537262</td>\n",
       "      <td>53.552586</td>\n",
       "      <td>119.820305</td>\n",
       "    </tr>\n",
       "    <tr>\n",
       "      <th>2015-01-01 17:00:00</th>\n",
       "      <td>NaN</td>\n",
       "      <td>11.051888</td>\n",
       "      <td>62.767124</td>\n",
       "      <td>112.398285</td>\n",
       "    </tr>\n",
       "    <tr>\n",
       "      <th>2015-01-01 18:00:00</th>\n",
       "      <td>NaN</td>\n",
       "      <td>12.686615</td>\n",
       "      <td>64.626480</td>\n",
       "      <td>141.606674</td>\n",
       "    </tr>\n",
       "    <tr>\n",
       "      <th>2015-01-01 19:00:00</th>\n",
       "      <td>NaN</td>\n",
       "      <td>-0.022476</td>\n",
       "      <td>66.749352</td>\n",
       "      <td>135.777420</td>\n",
       "    </tr>\n",
       "    <tr>\n",
       "      <th>2015-01-01 20:00:00</th>\n",
       "      <td>NaN</td>\n",
       "      <td>5.439373</td>\n",
       "      <td>50.082649</td>\n",
       "      <td>106.450317</td>\n",
       "    </tr>\n",
       "    <tr>\n",
       "      <th>2015-01-01 21:00:00</th>\n",
       "      <td>NaN</td>\n",
       "      <td>-4.573967</td>\n",
       "      <td>39.653328</td>\n",
       "      <td>109.322426</td>\n",
       "    </tr>\n",
       "    <tr>\n",
       "      <th>2015-01-01 22:00:00</th>\n",
       "      <td>NaN</td>\n",
       "      <td>6.070745</td>\n",
       "      <td>37.475861</td>\n",
       "      <td>68.219238</td>\n",
       "    </tr>\n",
       "    <tr>\n",
       "      <th>2015-01-01 23:00:00</th>\n",
       "      <td>NaN</td>\n",
       "      <td>4.546360</td>\n",
       "      <td>42.449738</td>\n",
       "      <td>78.075119</td>\n",
       "    </tr>\n",
       "    <tr>\n",
       "      <th>2015-01-02 00:00:00</th>\n",
       "      <td>NaN</td>\n",
       "      <td>-2.835560</td>\n",
       "      <td>29.314150</td>\n",
       "      <td>68.305595</td>\n",
       "    </tr>\n",
       "  </tbody>\n",
       "</table>\n",
       "</div>"
      ],
      "text/plain": [
       "source                   actual        p10        p50         p90\n",
       "timestamp                                                        \n",
       "2014-10-31 06:00:00   47.470978        NaN        NaN         NaN\n",
       "2014-10-31 11:00:00  164.179104        NaN        NaN         NaN\n",
       "2014-10-31 12:00:00  172.056385        NaN        NaN         NaN\n",
       "2014-10-31 13:00:00  147.595357        NaN        NaN         NaN\n",
       "2014-10-31 16:00:00  148.631841        NaN        NaN         NaN\n",
       "2014-10-31 18:00:00  169.983416        NaN        NaN         NaN\n",
       "2014-10-31 20:00:00  127.280265        NaN        NaN         NaN\n",
       "2014-10-31 21:00:00   72.139303        NaN        NaN         NaN\n",
       "2015-01-01 01:00:00         NaN   2.855000  37.534939   71.652039\n",
       "2015-01-01 02:00:00         NaN  -0.505455  28.671593   58.721466\n",
       "2015-01-01 03:00:00         NaN  -4.329229  27.116800   48.295761\n",
       "2015-01-01 04:00:00         NaN   3.713097  30.925524   64.476875\n",
       "2015-01-01 05:00:00         NaN   8.358660  35.950970   62.045399\n",
       "2015-01-01 06:00:00         NaN   3.334396  27.733946   51.915310\n",
       "2015-01-01 07:00:00         NaN   9.908600  35.353523   58.223011\n",
       "2015-01-01 08:00:00         NaN   5.467678  47.082436   84.892014\n",
       "2015-01-01 09:00:00         NaN -19.981930  50.489895  124.329773\n",
       "2015-01-01 10:00:00         NaN  -6.564190  52.955849  109.343170\n",
       "2015-01-01 11:00:00         NaN   7.586403  71.409042  125.683914\n",
       "2015-01-01 12:00:00         NaN  -2.343964  73.947891  155.134125\n",
       "2015-01-01 13:00:00         NaN  -1.974144  46.768517  114.378342\n",
       "2015-01-01 14:00:00         NaN   8.029659  55.759838  118.506805\n",
       "2015-01-01 15:00:00         NaN   9.636711  60.639133  117.774208\n",
       "2015-01-01 16:00:00         NaN  -8.537262  53.552586  119.820305\n",
       "2015-01-01 17:00:00         NaN  11.051888  62.767124  112.398285\n",
       "2015-01-01 18:00:00         NaN  12.686615  64.626480  141.606674\n",
       "2015-01-01 19:00:00         NaN  -0.022476  66.749352  135.777420\n",
       "2015-01-01 20:00:00         NaN   5.439373  50.082649  106.450317\n",
       "2015-01-01 21:00:00         NaN  -4.573967  39.653328  109.322426\n",
       "2015-01-01 22:00:00         NaN   6.070745  37.475861   68.219238\n",
       "2015-01-01 23:00:00         NaN   4.546360  42.449738   78.075119\n",
       "2015-01-02 00:00:00         NaN  -2.835560  29.314150   68.305595"
      ]
     },
     "execution_count": 68,
     "metadata": {},
     "output_type": "execute_result"
    }
   ],
   "source": [
    "pivot_df = results_df.pivot(columns='source', values='value', index=\"timestamp\")\n",
    "\n",
    "pivot_df"
   ]
  },
  {
   "cell_type": "code",
   "execution_count": 70,
   "metadata": {},
   "outputs": [],
   "source": [
    "forecast.delete_forecast(ForecastArn=forecast_arn)"
   ]
  },
  {
   "cell_type": "code",
   "execution_count": 144,
   "metadata": {},
   "outputs": [
    {
     "data": {
      "text/plain": [
       "{'ResponseMetadata': {'RequestId': '83fb629c-d9b5-4a85-91f9-2fd7f7a4fa66',\n",
       "  'HTTPStatusCode': 200,\n",
       "  'HTTPHeaders': {'content-type': 'application/x-amz-json-1.1',\n",
       "   'date': 'Sat, 02 May 2020 21:16:29 GMT',\n",
       "   'x-amzn-requestid': '83fb629c-d9b5-4a85-91f9-2fd7f7a4fa66',\n",
       "   'content-length': '0',\n",
       "   'connection': 'keep-alive'},\n",
       "  'RetryAttempts': 0}}"
      ]
     },
     "execution_count": 144,
     "metadata": {},
     "output_type": "execute_result"
    }
   ],
   "source": [
    "forecast.delete_predictor(PredictorArn=predictor_arn)"
   ]
  },
  {
   "cell_type": "code",
   "execution_count": 146,
   "metadata": {},
   "outputs": [
    {
     "data": {
      "text/plain": [
       "{'ResponseMetadata': {'RequestId': 'bdfbdb9e-a6cc-4e7d-b4ab-fef0a2761124',\n",
       "  'HTTPStatusCode': 200,\n",
       "  'HTTPHeaders': {'content-type': 'application/x-amz-json-1.1',\n",
       "   'date': 'Sat, 02 May 2020 21:16:56 GMT',\n",
       "   'x-amzn-requestid': 'bdfbdb9e-a6cc-4e7d-b4ab-fef0a2761124',\n",
       "   'content-length': '0',\n",
       "   'connection': 'keep-alive'},\n",
       "  'RetryAttempts': 0}}"
      ]
     },
     "execution_count": 146,
     "metadata": {},
     "output_type": "execute_result"
    }
   ],
   "source": [
    "forecast.delete_dataset_import_job(DatasetImportJobArn=ds_import_job_arn)"
   ]
  },
  {
   "cell_type": "code",
   "execution_count": 149,
   "metadata": {},
   "outputs": [
    {
     "data": {
      "text/plain": [
       "{'ResponseMetadata': {'RequestId': '38f5de29-759a-46ec-89dd-11e82d9dbaa1',\n",
       "  'HTTPStatusCode': 200,\n",
       "  'HTTPHeaders': {'content-type': 'application/x-amz-json-1.1',\n",
       "   'date': 'Sat, 02 May 2020 21:17:10 GMT',\n",
       "   'x-amzn-requestid': '38f5de29-759a-46ec-89dd-11e82d9dbaa1',\n",
       "   'content-length': '0',\n",
       "   'connection': 'keep-alive'},\n",
       "  'RetryAttempts': 0}}"
      ]
     },
     "execution_count": 149,
     "metadata": {},
     "output_type": "execute_result"
    }
   ],
   "source": [
    "forecast.delete_dataset(DatasetArn=datasetArn)"
   ]
  },
  {
   "cell_type": "code",
   "execution_count": 150,
   "metadata": {},
   "outputs": [
    {
     "data": {
      "text/plain": [
       "{'ResponseMetadata': {'RequestId': 'e0db8ab6-99a7-49db-9293-d8f6736f8339',\n",
       "  'HTTPStatusCode': 200,\n",
       "  'HTTPHeaders': {'content-type': 'application/x-amz-json-1.1',\n",
       "   'date': 'Sat, 02 May 2020 21:17:16 GMT',\n",
       "   'x-amzn-requestid': 'e0db8ab6-99a7-49db-9293-d8f6736f8339',\n",
       "   'content-length': '0',\n",
       "   'connection': 'keep-alive'},\n",
       "  'RetryAttempts': 0}}"
      ]
     },
     "execution_count": 150,
     "metadata": {},
     "output_type": "execute_result"
    }
   ],
   "source": [
    "forecast.delete_dataset_group(DatasetGroupArn=datasetGroupArn)"
   ]
  },
  {
   "cell_type": "code",
   "execution_count": 151,
   "metadata": {},
   "outputs": [
    {
     "data": {
      "text/plain": [
       "{'ResponseMetadata': {'RequestId': 'BFD0B30DA63731A5',\n",
       "  'HostId': 'M/Yb/mmYuVd87G+CbJnlqmUwt1L+jatbovH+zPHZJl5B4N7MJquv+CizlqtmWiWcUYtmXaCxiIg=',\n",
       "  'HTTPStatusCode': 204,\n",
       "  'HTTPHeaders': {'x-amz-id-2': 'M/Yb/mmYuVd87G+CbJnlqmUwt1L+jatbovH+zPHZJl5B4N7MJquv+CizlqtmWiWcUYtmXaCxiIg=',\n",
       "   'x-amz-request-id': 'BFD0B30DA63731A5',\n",
       "   'date': 'Sat, 02 May 2020 21:17:25 GMT',\n",
       "   'server': 'AmazonS3'},\n",
       "  'RetryAttempts': 1}}"
      ]
     },
     "execution_count": 151,
     "metadata": {},
     "output_type": "execute_result"
    }
   ],
   "source": [
    "boto3.Session().resource('s3').Bucket(bucket_name).Object(key).delete()"
   ]
  },
  {
   "cell_type": "code",
   "execution_count": null,
   "metadata": {},
   "outputs": [],
   "source": []
  }
 ],
 "metadata": {
  "kernelspec": {
   "display_name": "Python 3",
   "language": "python",
   "name": "python3"
  },
  "language_info": {
   "codemirror_mode": {
    "name": "ipython",
    "version": 3
   },
   "file_extension": ".py",
   "mimetype": "text/x-python",
   "name": "python",
   "nbconvert_exporter": "python",
   "pygments_lexer": "ipython3",
   "version": "3.8.1"
  }
 },
 "nbformat": 4,
 "nbformat_minor": 4
}
