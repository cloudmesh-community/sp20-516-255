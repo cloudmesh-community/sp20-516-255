{
 "cells": [
  {
   "cell_type": "markdown",
   "metadata": {},
   "source": [
    "# AWS Forecast using DeepAR Plus\n",
    "\n",
    "The overall process for using Amazon Forecast is the following:\n",
    "\n",
    "1. Get Data set \n",
    "1. Create a Dataset Group.\n",
    "1. Create a Dataset, in Forecast there are 3 types of dataset, Target Time Series, Related Time Series, and Item Metadata\n",
    "1. Import data into Forecast from AWS Storage S3\n",
    "1. Train a model\n",
    "1. Create a Predictor\n",
    "1. Query the Forecast\n",
    "1. Referenced from Amazon Forecast Samples at https://github.com/aws-samples/amazon-forecast-samples"
   ]
  },
  {
   "cell_type": "code",
   "execution_count": 152,
   "metadata": {},
   "outputs": [],
   "source": [
    "import sys\n",
    "import os\n",
    "import json\n",
    "import time\n",
    "import pandas as pd\n",
    "import boto3\n",
    "import numpy as np\n",
    "from cloudmesh.common.StopWatch import StopWatch\n",
    "from time import sleep"
   ]
  },
  {
   "cell_type": "markdown",
   "metadata": {},
   "source": [
    "### Data Load \n",
    "* Load into a dataframe from .csv file.\n",
    "* Functions to set less than 0 values to 0\n",
    "* Set missing values to 0\n",
    "* Create a log scale for the value"
   ]
  },
  {
   "cell_type": "code",
   "execution_count": 153,
   "metadata": {},
   "outputs": [
    {
     "data": {
      "text/html": [
       "<div>\n",
       "<style scoped>\n",
       "    .dataframe tbody tr th:only-of-type {\n",
       "        vertical-align: middle;\n",
       "    }\n",
       "\n",
       "    .dataframe tbody tr th {\n",
       "        vertical-align: top;\n",
       "    }\n",
       "\n",
       "    .dataframe thead th {\n",
       "        text-align: right;\n",
       "    }\n",
       "</style>\n",
       "<table border=\"1\" class=\"dataframe\">\n",
       "  <thead>\n",
       "    <tr style=\"text-align: right;\">\n",
       "      <th></th>\n",
       "      <th>timestamp</th>\n",
       "      <th>value</th>\n",
       "      <th>item_id</th>\n",
       "    </tr>\n",
       "  </thead>\n",
       "  <tbody>\n",
       "    <tr>\n",
       "      <th>0</th>\n",
       "      <td>NaN</td>\n",
       "      <td>-12.000000</td>\n",
       "      <td>NaN</td>\n",
       "    </tr>\n",
       "    <tr>\n",
       "      <th>1</th>\n",
       "      <td>2014-01-01 01:00:00</td>\n",
       "      <td>23.648649</td>\n",
       "      <td>client_1</td>\n",
       "    </tr>\n",
       "    <tr>\n",
       "      <th>2</th>\n",
       "      <td>2014-01-01 01:00:00</td>\n",
       "      <td>0.000000</td>\n",
       "      <td>client_2</td>\n",
       "    </tr>\n",
       "  </tbody>\n",
       "</table>\n",
       "</div>"
      ],
      "text/plain": [
       "             timestamp      value   item_id\n",
       "0                  NaN -12.000000       NaN\n",
       "1  2014-01-01 01:00:00  23.648649  client_1\n",
       "2  2014-01-01 01:00:00   0.000000  client_2"
      ]
     },
     "execution_count": 153,
     "metadata": {},
     "output_type": "execute_result"
    }
   ],
   "source": [
    "df = pd.read_csv(\"data.csv\", dtype = object, names=['timestamp','value','item_id'], skiprows=1)\n",
    "df.value=df.value.astype(float)\n",
    "df.head(3)"
   ]
  },
  {
   "cell_type": "code",
   "execution_count": 154,
   "metadata": {},
   "outputs": [],
   "source": [
    "def updatedf(x,setval):\n",
    "    if x < 0 :\n",
    "        x=setval\n",
    "    return x\n",
    "\n",
    "def updateNan(x):\n",
    "    return x.fillna(0)"
   ]
  },
  {
   "cell_type": "code",
   "execution_count": 155,
   "metadata": {},
   "outputs": [
    {
     "data": {
      "text/html": [
       "<div>\n",
       "<style scoped>\n",
       "    .dataframe tbody tr th:only-of-type {\n",
       "        vertical-align: middle;\n",
       "    }\n",
       "\n",
       "    .dataframe tbody tr th {\n",
       "        vertical-align: top;\n",
       "    }\n",
       "\n",
       "    .dataframe thead th {\n",
       "        text-align: right;\n",
       "    }\n",
       "</style>\n",
       "<table border=\"1\" class=\"dataframe\">\n",
       "  <thead>\n",
       "    <tr style=\"text-align: right;\">\n",
       "      <th></th>\n",
       "      <th>timestamp</th>\n",
       "      <th>value</th>\n",
       "      <th>item_id</th>\n",
       "    </tr>\n",
       "  </thead>\n",
       "  <tbody>\n",
       "    <tr>\n",
       "      <th>0</th>\n",
       "      <td>NaN</td>\n",
       "      <td>0.000000</td>\n",
       "      <td>NaN</td>\n",
       "    </tr>\n",
       "    <tr>\n",
       "      <th>1</th>\n",
       "      <td>2014-01-01 01:00:00</td>\n",
       "      <td>23.648649</td>\n",
       "      <td>client_1</td>\n",
       "    </tr>\n",
       "    <tr>\n",
       "      <th>2</th>\n",
       "      <td>2014-01-01 01:00:00</td>\n",
       "      <td>0.000000</td>\n",
       "      <td>client_2</td>\n",
       "    </tr>\n",
       "    <tr>\n",
       "      <th>3</th>\n",
       "      <td>2014-01-01 01:00:00</td>\n",
       "      <td>144.817073</td>\n",
       "      <td>client_3</td>\n",
       "    </tr>\n",
       "    <tr>\n",
       "      <th>4</th>\n",
       "      <td>2014-01-01 01:00:00</td>\n",
       "      <td>75.000000</td>\n",
       "      <td>client_4</td>\n",
       "    </tr>\n",
       "  </tbody>\n",
       "</table>\n",
       "</div>"
      ],
      "text/plain": [
       "             timestamp       value   item_id\n",
       "0                  NaN    0.000000       NaN\n",
       "1  2014-01-01 01:00:00   23.648649  client_1\n",
       "2  2014-01-01 01:00:00    0.000000  client_2\n",
       "3  2014-01-01 01:00:00  144.817073  client_3\n",
       "4  2014-01-01 01:00:00   75.000000  client_4"
      ]
     },
     "execution_count": 155,
     "metadata": {},
     "output_type": "execute_result"
    }
   ],
   "source": [
    "df['value'] = df['value'].apply(lambda x: updatedf(x,0))\n",
    "df.head()"
   ]
  },
  {
   "cell_type": "code",
   "execution_count": 156,
   "metadata": {},
   "outputs": [
    {
     "data": {
      "text/html": [
       "<div>\n",
       "<style scoped>\n",
       "    .dataframe tbody tr th:only-of-type {\n",
       "        vertical-align: middle;\n",
       "    }\n",
       "\n",
       "    .dataframe tbody tr th {\n",
       "        vertical-align: top;\n",
       "    }\n",
       "\n",
       "    .dataframe thead th {\n",
       "        text-align: right;\n",
       "    }\n",
       "</style>\n",
       "<table border=\"1\" class=\"dataframe\">\n",
       "  <thead>\n",
       "    <tr style=\"text-align: right;\">\n",
       "      <th></th>\n",
       "      <th>timestamp</th>\n",
       "      <th>value</th>\n",
       "      <th>item_id</th>\n",
       "    </tr>\n",
       "  </thead>\n",
       "  <tbody>\n",
       "    <tr>\n",
       "      <th>0</th>\n",
       "      <td>0</td>\n",
       "      <td>0.000000</td>\n",
       "      <td>0</td>\n",
       "    </tr>\n",
       "    <tr>\n",
       "      <th>1</th>\n",
       "      <td>2014-01-01 01:00:00</td>\n",
       "      <td>23.648649</td>\n",
       "      <td>client_1</td>\n",
       "    </tr>\n",
       "    <tr>\n",
       "      <th>2</th>\n",
       "      <td>2014-01-01 01:00:00</td>\n",
       "      <td>0.000000</td>\n",
       "      <td>client_2</td>\n",
       "    </tr>\n",
       "    <tr>\n",
       "      <th>3</th>\n",
       "      <td>2014-01-01 01:00:00</td>\n",
       "      <td>144.817073</td>\n",
       "      <td>client_3</td>\n",
       "    </tr>\n",
       "    <tr>\n",
       "      <th>4</th>\n",
       "      <td>2014-01-01 01:00:00</td>\n",
       "      <td>75.000000</td>\n",
       "      <td>client_4</td>\n",
       "    </tr>\n",
       "  </tbody>\n",
       "</table>\n",
       "</div>"
      ],
      "text/plain": [
       "             timestamp       value   item_id\n",
       "0                    0    0.000000         0\n",
       "1  2014-01-01 01:00:00   23.648649  client_1\n",
       "2  2014-01-01 01:00:00    0.000000  client_2\n",
       "3  2014-01-01 01:00:00  144.817073  client_3\n",
       "4  2014-01-01 01:00:00   75.000000  client_4"
      ]
     },
     "execution_count": 156,
     "metadata": {},
     "output_type": "execute_result"
    }
   ],
   "source": [
    "df = df.apply(lambda x: updateNan(x))\n",
    "df.head()"
   ]
  },
  {
   "cell_type": "code",
   "execution_count": 157,
   "metadata": {},
   "outputs": [],
   "source": [
    "import matplotlib.pyplot as plt "
   ]
  },
  {
   "cell_type": "code",
   "execution_count": 158,
   "metadata": {},
   "outputs": [
    {
     "data": {
      "text/plain": [
       "Text(0.5, 0.98, 'Log Scale for Value column in the dataframe')"
      ]
     },
     "execution_count": 158,
     "metadata": {},
     "output_type": "execute_result"
    },
    {
     "data": {
      "image/png": "[encoded data removed]",
      "text/plain": [
       "<Figure size 432x288 with 1 Axes>"
      ]
     },
     "metadata": {
      "needs_background": "light"
     },
     "output_type": "display_data"
    }
   ],
   "source": [
    "fig=plt.figure()\n",
    "plt.yscale(\"log\")\n",
    "plt.plot(df['value']) \n",
    "fig.suptitle('Log Scale for Value column in the dataframe', fontsize=14)"
   ]
  },
  {
   "cell_type": "markdown",
   "metadata": {},
   "source": [
    "### Split the data set into training and test."
   ]
  },
  {
   "cell_type": "code",
   "execution_count": 159,
   "metadata": {},
   "outputs": [],
   "source": [
    "def split_data_train_test(data,percentage=0.3):\n",
    "    from sklearn.model_selection import train_test_split\n",
    "    x_train ,x_test = train_test_split(data,test_size=percentage)\n",
    "    return x_train, x_test"
   ]
  },
  {
   "cell_type": "code",
   "execution_count": 160,
   "metadata": {},
   "outputs": [],
   "source": [
    "#divide the data into Train and Test Dataset.\n",
    "split_percentage=0.3\n",
    "train_df, test_df= split_data_train_test(df,split_percentage)"
   ]
  },
  {
   "cell_type": "code",
   "execution_count": 161,
   "metadata": {},
   "outputs": [
    {
     "name": "stdout",
     "output_type": "stream",
     "text": [
      "4\n"
     ]
    }
   ],
   "source": [
    "StopWatch.start('to_csv')\n",
    "\n",
    "train_df.to_csv(\"aiservices-train.csv\", header=False, index=False)\n",
    "test_df.to_csv(\"aiservices-test.csv\", header=False, index=False)\n",
    "\n",
    "StopWatch.stop('to_csv')\n",
    "\n",
    "print (StopWatch.get('to_csv'))"
   ]
  },
  {
   "cell_type": "markdown",
   "metadata": {},
   "source": [
    "### Initialize required cloud services"
   ]
  },
  {
   "cell_type": "code",
   "execution_count": 162,
   "metadata": {},
   "outputs": [],
   "source": [
    "region='us-east-1'\n",
    "session = boto3.Session(region_name=region) \n",
    "forecast = session.client(service_name='forecast')\n",
    "forecastquery = session.client(service_name='forecastquery')"
   ]
  },
  {
   "cell_type": "code",
   "execution_count": 163,
   "metadata": {},
   "outputs": [
    {
     "name": "stdout",
     "output_type": "stream",
     "text": [
      "9\n"
     ]
    }
   ],
   "source": [
    "import botocore\n",
    "\n",
    "key=\"aiservices-train.csv\"\n",
    "bucket_name='awsforecastassignnment'\n",
    "\n",
    "StopWatch.start('to_s3')\n",
    "\n",
    "boto3.Session().resource('s3').Bucket(bucket_name).Object(key).upload_file(\"aiservices-train.csv\")\n",
    "\n",
    "\n",
    "StopWatch.stop('to_s3')\n",
    "\n",
    "print (StopWatch.get('to_s3'))"
   ]
  },
  {
   "cell_type": "markdown",
   "metadata": {},
   "source": [
    "## Creating the Dataset Group and Dataset <a class=\"anchor\" id=\"dataset\"></a>\n",
    "\n",
    "A dataset is a collection of file(s) having relevant data for forecasting task. A dataset must conform to a schema provided by Amazon Forecast. "
   ]
  },
  {
   "cell_type": "code",
   "execution_count": 164,
   "metadata": {},
   "outputs": [],
   "source": [
    "DATASET_FREQUENCY = \"H\" \n",
    "TIMESTAMP_FORMAT = \"yyyy-MM-dd hh:mm:ss\""
   ]
  },
  {
   "cell_type": "code",
   "execution_count": 165,
   "metadata": {},
   "outputs": [],
   "source": [
    "project = 'timeseries_1'\n",
    "datasetName= project+'_ds'\n",
    "datasetGroupName= project +'_dsg'\n",
    "s3DataPath = \"s3://\"+bucket_name+\"/\"+key"
   ]
  },
  {
   "cell_type": "markdown",
   "metadata": {},
   "source": [
    "### Create the Dataset Group"
   ]
  },
  {
   "cell_type": "code",
   "execution_count": 166,
   "metadata": {},
   "outputs": [
    {
     "name": "stdout",
     "output_type": "stream",
     "text": [
      "0\n"
     ]
    }
   ],
   "source": [
    "StopWatch.start('to_dsg')\n",
    "\n",
    "try:\n",
    "    create_dataset_group_response = forecast.create_dataset_group(DatasetGroupName=datasetGroupName, Domain=\"CUSTOM\",)\n",
    "    datasetGroupArn = create_dataset_group_response['DatasetGroupArn']\n",
    "except botocore.exceptions.ClientError as e:\n",
    "    if e.response['Error']['Code'] == \"ResourceAlreadyExistsException\":\n",
    "        response = forecast.list_dataset_groups(MaxResults=2)\n",
    "        datasetGroupArn = response['DatasetGroupArn']\n",
    "        print(response)\n",
    "        # The dataset already exists no need to re-create\n",
    "        print(\"\\nThe dataset group already exists\")\n",
    "    elif e.response['Error']['Code'] == \"ResourceInUseException\":\n",
    "        # The dataset already exists no need to re-create\n",
    "        print(\"The requested dataset group is in use\")\n",
    "\n",
    "StopWatch.stop('to_dsg')\n",
    "\n",
    "print (StopWatch.get('to_dsg'))"
   ]
  },
  {
   "cell_type": "code",
   "execution_count": 167,
   "metadata": {},
   "outputs": [
    {
     "data": {
      "text/plain": [
       "{'DatasetGroupName': 'timeseries_1_dsg',\n",
       " 'DatasetGroupArn': 'arn:aws:forecast:us-east-1:514439120157:dataset-group/timeseries_1_dsg',\n",
       " 'DatasetArns': [],\n",
       " 'Domain': 'CUSTOM',\n",
       " 'Status': 'ACTIVE',\n",
       " 'CreationTime': datetime.datetime(2020, 5, 2, 17, 18, 51, 347000, tzinfo=tzlocal()),\n",
       " 'LastModificationTime': datetime.datetime(2020, 5, 2, 17, 18, 51, 347000, tzinfo=tzlocal()),\n",
       " 'ResponseMetadata': {'RequestId': '7a7520ef-a652-40ad-9a70-f2e867602740',\n",
       "  'HTTPStatusCode': 200,\n",
       "  'HTTPHeaders': {'content-type': 'application/x-amz-json-1.1',\n",
       "   'date': 'Sat, 02 May 2020 21:19:19 GMT',\n",
       "   'x-amzn-requestid': '7a7520ef-a652-40ad-9a70-f2e867602740',\n",
       "   'content-length': '255',\n",
       "   'connection': 'keep-alive'},\n",
       "  'RetryAttempts': 0}}"
      ]
     },
     "execution_count": 167,
     "metadata": {},
     "output_type": "execute_result"
    }
   ],
   "source": [
    "forecast.describe_dataset_group(DatasetGroupArn=datasetGroupArn)"
   ]
  },
  {
   "cell_type": "markdown",
   "metadata": {},
   "source": [
    "### Create the Schema"
   ]
  },
  {
   "cell_type": "code",
   "execution_count": 168,
   "metadata": {},
   "outputs": [],
   "source": [
    "schema ={\n",
    "   \"Attributes\":[\n",
    "      {\n",
    "         \"AttributeName\":\"timestamp\",\n",
    "         \"AttributeType\":\"timestamp\"\n",
    "      },\n",
    "      {\n",
    "         \"AttributeName\":\"target_value\",\n",
    "         \"AttributeType\":\"float\"\n",
    "      },\n",
    "      {\n",
    "         \"AttributeName\":\"item_id\",\n",
    "         \"AttributeType\":\"string\"\n",
    "      }\n",
    "   ]\n",
    "}"
   ]
  },
  {
   "cell_type": "markdown",
   "metadata": {},
   "source": [
    "### Create the Dataset"
   ]
  },
  {
   "cell_type": "code",
   "execution_count": 169,
   "metadata": {},
   "outputs": [],
   "source": [
    "response=forecast.create_dataset(\n",
    "                    Domain=\"CUSTOM\",\n",
    "                    DatasetType='TARGET_TIME_SERIES',\n",
    "                    DatasetName=datasetName,\n",
    "                    DataFrequency=DATASET_FREQUENCY, \n",
    "                    Schema = schema\n",
    ")"
   ]
  },
  {
   "cell_type": "code",
   "execution_count": 170,
   "metadata": {},
   "outputs": [
    {
     "data": {
      "text/plain": [
       "{'DatasetArn': 'arn:aws:forecast:us-east-1:514439120157:dataset/timeseries_1_ds',\n",
       " 'DatasetName': 'timeseries_1_ds',\n",
       " 'Domain': 'CUSTOM',\n",
       " 'DatasetType': 'TARGET_TIME_SERIES',\n",
       " 'DataFrequency': 'H',\n",
       " 'Schema': {'Attributes': [{'AttributeName': 'timestamp',\n",
       "    'AttributeType': 'timestamp'},\n",
       "   {'AttributeName': 'target_value', 'AttributeType': 'float'},\n",
       "   {'AttributeName': 'item_id', 'AttributeType': 'string'}]},\n",
       " 'EncryptionConfig': {},\n",
       " 'Status': 'ACTIVE',\n",
       " 'CreationTime': datetime.datetime(2020, 5, 2, 17, 19, 28, 849000, tzinfo=tzlocal()),\n",
       " 'LastModificationTime': datetime.datetime(2020, 5, 2, 17, 19, 28, 849000, tzinfo=tzlocal()),\n",
       " 'ResponseMetadata': {'RequestId': '7a4beb1b-fb8e-424b-a010-679750537fe7',\n",
       "  'HTTPStatusCode': 200,\n",
       "  'HTTPHeaders': {'content-type': 'application/x-amz-json-1.1',\n",
       "   'date': 'Sat, 02 May 2020 21:19:37 GMT',\n",
       "   'x-amzn-requestid': '7a4beb1b-fb8e-424b-a010-679750537fe7',\n",
       "   'content-length': '491',\n",
       "   'connection': 'keep-alive'},\n",
       "  'RetryAttempts': 0}}"
      ]
     },
     "execution_count": 170,
     "metadata": {},
     "output_type": "execute_result"
    }
   ],
   "source": [
    "datasetArn = response['DatasetArn']\n",
    "forecast.describe_dataset(DatasetArn=datasetArn)"
   ]
  },
  {
   "cell_type": "markdown",
   "metadata": {},
   "source": [
    "### Add Dataset to Dataset Group"
   ]
  },
  {
   "cell_type": "code",
   "execution_count": 171,
   "metadata": {},
   "outputs": [
    {
     "data": {
      "text/plain": [
       "{'ResponseMetadata': {'RequestId': '775e7f4f-3c68-4a04-8981-7c1d6ef18600',\n",
       "  'HTTPStatusCode': 200,\n",
       "  'HTTPHeaders': {'content-type': 'application/x-amz-json-1.1',\n",
       "   'date': 'Sat, 02 May 2020 21:19:44 GMT',\n",
       "   'x-amzn-requestid': '775e7f4f-3c68-4a04-8981-7c1d6ef18600',\n",
       "   'content-length': '2',\n",
       "   'connection': 'keep-alive'},\n",
       "  'RetryAttempts': 0}}"
      ]
     },
     "execution_count": 171,
     "metadata": {},
     "output_type": "execute_result"
    }
   ],
   "source": [
    "forecast.update_dataset_group(DatasetGroupArn=datasetGroupArn, DatasetArns=[datasetArn])"
   ]
  },
  {
   "cell_type": "markdown",
   "metadata": {
    "toc-hr-collapsed": false
   },
   "source": [
    "### Create IAM Role for Forecast\n",
    "\n",
    "Like many AWS services, Forecast will need to assume an IAM role in order to interact with your S3 resources securely. In the sample notebooks, we use the get_or_create_iam_role() utility function to create an IAM role. Please refer to [\"notebooks/common/util/fcst_utils.py\"](../../common/util/fcst_utils.py) for implementation."
   ]
  },
  {
   "cell_type": "code",
   "execution_count": 172,
   "metadata": {},
   "outputs": [],
   "source": [
    "# Create the role to provide to Amazon Forecast.\n",
    "role_arn = 'arn:aws:iam::1232432:role/abcbcbc'"
   ]
  },
  {
   "cell_type": "markdown",
   "metadata": {},
   "source": [
    "### Create Data Import Job\n",
    "\n",
    "\n",
    "Now that Forecast knows how to understand the CSV we are providing, the next step is to import the data from S3 into Amazon Forecaast."
   ]
  },
  {
   "cell_type": "code",
   "execution_count": 173,
   "metadata": {},
   "outputs": [],
   "source": [
    "datasetImportJobName = project +'_IMPORT_JOB'\n",
    "ds_import_job_response=forecast.create_dataset_import_job(DatasetImportJobName=datasetImportJobName,\n",
    "                                                          DatasetArn=datasetArn,\n",
    "                                                          DataSource= {\n",
    "                                                              \"S3Config\" : {\n",
    "                                                                 \"Path\":s3DataPath,\n",
    "                                                                 \"RoleArn\": role_arn\n",
    "                                                              } \n",
    "                                                          },\n",
    "                                                          TimestampFormat=TIMESTAMP_FORMAT\n",
    "                                                         )"
   ]
  },
  {
   "cell_type": "code",
   "execution_count": 174,
   "metadata": {},
   "outputs": [
    {
     "name": "stdout",
     "output_type": "stream",
     "text": [
      "arn:aws:forecast:us-east-1:514439120157:dataset-import-job/timeseries_1_ds/timeseries_1_IMPORT_JOB\n"
     ]
    }
   ],
   "source": [
    "ds_import_job_arn=ds_import_job_response['DatasetImportJobArn']\n",
    "print(ds_import_job_arn)"
   ]
  },
  {
   "cell_type": "code",
   "execution_count": 175,
   "metadata": {},
   "outputs": [
    {
     "data": {
      "text/plain": [
       "{'DatasetImportJobName': 'timeseries_1_IMPORT_JOB',\n",
       " 'DatasetImportJobArn': 'arn:aws:forecast:us-east-1:514439120157:dataset-import-job/timeseries_1_ds/timeseries_1_IMPORT_JOB',\n",
       " 'DatasetArn': 'arn:aws:forecast:us-east-1:514439120157:dataset/timeseries_1_ds',\n",
       " 'TimestampFormat': 'yyyy-MM-dd hh:mm:ss',\n",
       " 'DataSource': {'S3Config': {'Path': 's3://awsforecastassignnment/aiservices-train.csv',\n",
       "   'RoleArn': 'arn:aws:iam::514439120157:role/ForecastRolePP'}},\n",
       " 'FieldStatistics': {'item_id': {'Count': 366744,\n",
       "   'CountDistinct': 370,\n",
       "   'CountNull': 0},\n",
       "  'target_value': {'Count': 366744,\n",
       "   'CountDistinct': 246173,\n",
       "   'CountNull': 0,\n",
       "   'CountNan': 0,\n",
       "   'Min': '0.0',\n",
       "   'Max': '65150.0',\n",
       "   'Avg': 522.4259184939198,\n",
       "   'Stddev': 2348.673213771905},\n",
       "  'timestamp': {'Count': 366744,\n",
       "   'CountDistinct': 1416,\n",
       "   'CountNull': 0,\n",
       "   'Min': '2014-01-01T01:00:00Z',\n",
       "   'Max': '2014-03-01T00:00:00Z'}},\n",
       " 'DataSize': 0.016815279610455036,\n",
       " 'Status': 'ACTIVE',\n",
       " 'CreationTime': datetime.datetime(2020, 5, 2, 17, 19, 51, 239000, tzinfo=tzlocal()),\n",
       " 'LastModificationTime': datetime.datetime(2020, 5, 2, 17, 25, 1, 849000, tzinfo=tzlocal()),\n",
       " 'ResponseMetadata': {'RequestId': 'fe904730-fdcd-4ad1-afab-45bfd10ba91e',\n",
       "  'HTTPStatusCode': 200,\n",
       "  'HTTPHeaders': {'content-type': 'application/x-amz-json-1.1',\n",
       "   'date': 'Sat, 02 May 2020 21:26:01 GMT',\n",
       "   'x-amzn-requestid': 'fe904730-fdcd-4ad1-afab-45bfd10ba91e',\n",
       "   'content-length': '1126',\n",
       "   'connection': 'keep-alive'},\n",
       "  'RetryAttempts': 0}}"
      ]
     },
     "execution_count": 175,
     "metadata": {},
     "output_type": "execute_result"
    }
   ],
   "source": [
    "forecast.describe_dataset_import_job(DatasetImportJobArn=ds_import_job_arn)"
   ]
  },
  {
   "cell_type": "code",
   "execution_count": 176,
   "metadata": {},
   "outputs": [],
   "source": [
    "predictorName= project+'_deeparp_algo'"
   ]
  },
  {
   "cell_type": "code",
   "execution_count": 177,
   "metadata": {},
   "outputs": [],
   "source": [
    "forecastHorizon = 24"
   ]
  },
  {
   "cell_type": "code",
   "execution_count": 178,
   "metadata": {},
   "outputs": [],
   "source": [
    "algorithmArn = 'arn:aws:forecast:::algorithm/Deep_AR_Plus'"
   ]
  },
  {
   "cell_type": "code",
   "execution_count": 179,
   "metadata": {},
   "outputs": [],
   "source": [
    "create_predictor_response=forecast.create_predictor(PredictorName=predictorName, \n",
    "                                                  AlgorithmArn=algorithmArn,\n",
    "                                                  ForecastHorizon=forecastHorizon,\n",
    "                                                  PerformAutoML= False,\n",
    "                                                  PerformHPO=False,\n",
    "                                                  EvaluationParameters= {\"NumberOfBacktestWindows\": 1, \n",
    "                                                                         \"BackTestWindowOffset\": 24}, \n",
    "                                                  InputDataConfig= {\"DatasetGroupArn\": datasetGroupArn},\n",
    "                                                  FeaturizationConfig= {\"ForecastFrequency\": \"D\", \n",
    "                                                                        \"Featurizations\": \n",
    "                                                                        [\n",
    "                                                                          {\"AttributeName\": \"target_value\", \n",
    "                                                                           \"FeaturizationPipeline\": \n",
    "                                                                            [\n",
    "                                                                              {\"FeaturizationMethodName\": \"filling\", \n",
    "                                                                               \"FeaturizationMethodParameters\": \n",
    "                                                                                {\"frontfill\": \"none\", \n",
    "                                                                                 \"middlefill\": \"zero\", \n",
    "                                                                                 \"backfill\": \"zero\"}\n",
    "                                                                              }\n",
    "                                                                            ]\n",
    "                                                                          }\n",
    "                                                                        ]\n",
    "                                                                       }\n",
    "                                                 )"
   ]
  },
  {
   "cell_type": "code",
   "execution_count": 180,
   "metadata": {},
   "outputs": [],
   "source": [
    "predictor_arn=create_predictor_response['PredictorArn']"
   ]
  },
  {
   "cell_type": "code",
   "execution_count": 181,
   "metadata": {},
   "outputs": [
    {
     "data": {
      "text/plain": [
       "{'PredictorEvaluationResults': [{'AlgorithmArn': 'arn:aws:forecast:::algorithm/Deep_AR_Plus',\n",
       "   'TestWindows': [{'EvaluationType': 'SUMMARY',\n",
       "     'Metrics': {'RMSE': 1026.261317660324,\n",
       "      'WeightedQuantileLosses': [{'Quantile': 0.9,\n",
       "        'LossValue': 0.17743858522649836},\n",
       "       {'Quantile': 0.5, 'LossValue': 0.546224869157166},\n",
       "       {'Quantile': 0.1, 'LossValue': 0.2747187786840493}]}},\n",
       "    {'TestWindowStart': datetime.datetime(2014, 2, 27, 20, 0, tzinfo=tzlocal()),\n",
       "     'TestWindowEnd': datetime.datetime(2014, 2, 28, 20, 0, tzinfo=tzlocal()),\n",
       "     'ItemCount': 370,\n",
       "     'EvaluationType': 'COMPUTED',\n",
       "     'Metrics': {'RMSE': 1026.2613176603243,\n",
       "      'WeightedQuantileLosses': [{'Quantile': 0.9,\n",
       "        'LossValue': 0.17743858522649825},\n",
       "       {'Quantile': 0.5, 'LossValue': 0.5462248691571657},\n",
       "       {'Quantile': 0.1, 'LossValue': 0.2747187786840492}]}}]}],\n",
       " 'ResponseMetadata': {'RequestId': '478d3293-2a38-4a30-b35a-f6a09ca1ec62',\n",
       "  'HTTPStatusCode': 200,\n",
       "  'HTTPHeaders': {'content-type': 'application/x-amz-json-1.1',\n",
       "   'date': 'Sat, 02 May 2020 21:57:45 GMT',\n",
       "   'x-amzn-requestid': '478d3293-2a38-4a30-b35a-f6a09ca1ec62',\n",
       "   'content-length': '660',\n",
       "   'connection': 'keep-alive'},\n",
       "  'RetryAttempts': 0}}"
      ]
     },
     "execution_count": 181,
     "metadata": {},
     "output_type": "execute_result"
    }
   ],
   "source": [
    "forecast.get_accuracy_metrics(PredictorArn=predictor_arn)"
   ]
  },
  {
   "cell_type": "code",
   "execution_count": 182,
   "metadata": {},
   "outputs": [],
   "source": [
    "forecastName= project+'_deeparp_algo_forecast'"
   ]
  },
  {
   "cell_type": "code",
   "execution_count": 183,
   "metadata": {},
   "outputs": [],
   "source": [
    "create_forecast_response=forecast.create_forecast(ForecastName=forecastName,\n",
    "                                                  PredictorArn=predictor_arn)\n",
    "forecast_arn = create_forecast_response['ForecastArn']"
   ]
  },
  {
   "cell_type": "code",
   "execution_count": 184,
   "metadata": {},
   "outputs": [
    {
     "name": "stdout",
     "output_type": "stream",
     "text": [
      "arn:aws:forecast:us-east-1:514439120157:forecast/timeseries_1_deeparp_algo_forecast\n",
      "\n",
      "{'Forecast': {'Predictions': {'p10': [{'Timestamp': '2014-03-01T01:00:00', 'Value': 2.0108985900878906}, {'Timestamp': '2014-03-01T02:00:00', 'Value': 22.140838623046875}, {'Timestamp': '2014-03-01T03:00:00', 'Value': 12.109325408935547}, {'Timestamp': '2014-03-01T04:00:00', 'Value': 6.897163391113281}, {'Timestamp': '2014-03-01T05:00:00', 'Value': 17.944034576416016}, {'Timestamp': '2014-03-01T06:00:00', 'Value': 24.617610931396484}, {'Timestamp': '2014-03-01T07:00:00', 'Value': 27.04290008544922}, {'Timestamp': '2014-03-01T08:00:00', 'Value': 21.201675415039062}, {'Timestamp': '2014-03-01T09:00:00', 'Value': 16.764511108398438}, {'Timestamp': '2014-03-01T10:00:00', 'Value': 8.969970703125}, {'Timestamp': '2014-03-01T11:00:00', 'Value': 2.1800308227539062}, {'Timestamp': '2014-03-01T12:00:00', 'Value': 27.081893920898438}, {'Timestamp': '2014-03-01T13:00:00', 'Value': 19.833778381347656}, {'Timestamp': '2014-03-01T14:00:00', 'Value': -1.225982666015625}, {'Timestamp': '2014-03-01T15:00:00', 'Value': 38.672767639160156}, {'Timestamp': '2014-03-01T16:00:00', 'Value': 41.03795623779297}, {'Timestamp': '2014-03-01T17:00:00', 'Value': 9.500068664550781}, {'Timestamp': '2014-03-01T18:00:00', 'Value': 35.02740478515625}, {'Timestamp': '2014-03-01T19:00:00', 'Value': 24.420127868652344}, {'Timestamp': '2014-03-01T20:00:00', 'Value': 37.802337646484375}, {'Timestamp': '2014-03-01T21:00:00', 'Value': 32.556800842285156}, {'Timestamp': '2014-03-01T22:00:00', 'Value': 0.3557586669921875}, {'Timestamp': '2014-03-01T23:00:00', 'Value': 28.43988037109375}, {'Timestamp': '2014-03-02T00:00:00', 'Value': 38.69743347167969}], 'p50': [{'Timestamp': '2014-03-01T01:00:00', 'Value': 68.15699768066406}, {'Timestamp': '2014-03-01T02:00:00', 'Value': 56.306907653808594}, {'Timestamp': '2014-03-01T03:00:00', 'Value': 57.74872970581055}, {'Timestamp': '2014-03-01T04:00:00', 'Value': 58.165443420410156}, {'Timestamp': '2014-03-01T05:00:00', 'Value': 80.32579803466797}, {'Timestamp': '2014-03-01T06:00:00', 'Value': 77.64262390136719}, {'Timestamp': '2014-03-01T07:00:00', 'Value': 94.24386596679688}, {'Timestamp': '2014-03-01T08:00:00', 'Value': 89.40315246582031}, {'Timestamp': '2014-03-01T09:00:00', 'Value': 103.36419677734375}, {'Timestamp': '2014-03-01T10:00:00', 'Value': 112.5906753540039}, {'Timestamp': '2014-03-01T11:00:00', 'Value': 105.17633819580078}, {'Timestamp': '2014-03-01T12:00:00', 'Value': 109.09696960449219}, {'Timestamp': '2014-03-01T13:00:00', 'Value': 112.77167510986328}, {'Timestamp': '2014-03-01T14:00:00', 'Value': 105.92149353027344}, {'Timestamp': '2014-03-01T15:00:00', 'Value': 104.83618927001953}, {'Timestamp': '2014-03-01T16:00:00', 'Value': 93.99334716796875}, {'Timestamp': '2014-03-01T17:00:00', 'Value': 77.2828369140625}, {'Timestamp': '2014-03-01T18:00:00', 'Value': 103.77017211914062}, {'Timestamp': '2014-03-01T19:00:00', 'Value': 106.74518585205078}, {'Timestamp': '2014-03-01T20:00:00', 'Value': 134.65557861328125}, {'Timestamp': '2014-03-01T21:00:00', 'Value': 130.7562255859375}, {'Timestamp': '2014-03-01T22:00:00', 'Value': 117.23926544189453}, {'Timestamp': '2014-03-01T23:00:00', 'Value': 107.32658386230469}, {'Timestamp': '2014-03-02T00:00:00', 'Value': 86.80696868896484}], 'p90': [{'Timestamp': '2014-03-01T01:00:00', 'Value': 113.1971435546875}, {'Timestamp': '2014-03-01T02:00:00', 'Value': 92.23179626464844}, {'Timestamp': '2014-03-01T03:00:00', 'Value': 87.43617248535156}, {'Timestamp': '2014-03-01T04:00:00', 'Value': 111.00450134277344}, {'Timestamp': '2014-03-01T05:00:00', 'Value': 110.69033813476562}, {'Timestamp': '2014-03-01T06:00:00', 'Value': 146.60800170898438}, {'Timestamp': '2014-03-01T07:00:00', 'Value': 157.78323364257812}, {'Timestamp': '2014-03-01T08:00:00', 'Value': 163.99777221679688}, {'Timestamp': '2014-03-01T09:00:00', 'Value': 171.14195251464844}, {'Timestamp': '2014-03-01T10:00:00', 'Value': 214.12811279296875}, {'Timestamp': '2014-03-01T11:00:00', 'Value': 187.72145080566406}, {'Timestamp': '2014-03-01T12:00:00', 'Value': 197.0081329345703}, {'Timestamp': '2014-03-01T13:00:00', 'Value': 188.38504028320312}, {'Timestamp': '2014-03-01T14:00:00', 'Value': 190.74618530273438}, {'Timestamp': '2014-03-01T15:00:00', 'Value': 166.4199676513672}, {'Timestamp': '2014-03-01T16:00:00', 'Value': 156.41317749023438}, {'Timestamp': '2014-03-01T17:00:00', 'Value': 163.082763671875}, {'Timestamp': '2014-03-01T18:00:00', 'Value': 180.4165802001953}, {'Timestamp': '2014-03-01T19:00:00', 'Value': 188.78390502929688}, {'Timestamp': '2014-03-01T20:00:00', 'Value': 220.27206420898438}, {'Timestamp': '2014-03-01T21:00:00', 'Value': 230.9351348876953}, {'Timestamp': '2014-03-01T22:00:00', 'Value': 210.71310424804688}, {'Timestamp': '2014-03-01T23:00:00', 'Value': 196.451171875}, {'Timestamp': '2014-03-02T00:00:00', 'Value': 168.09286499023438}]}}, 'ResponseMetadata': {'RequestId': 'c1c3e6aa-b7ca-4911-8801-a7b2cc225434', 'HTTPStatusCode': 200, 'HTTPHeaders': {'content-type': 'application/x-amz-json-1.1', 'date': 'Sat, 02 May 2020 22:28:09 GMT', 'x-amzn-requestid': 'c1c3e6aa-b7ca-4911-8801-a7b2cc225434', 'content-length': '4553', 'connection': 'keep-alive'}, 'RetryAttempts': 0}}\n"
     ]
    }
   ],
   "source": [
    "print(forecast_arn)\n",
    "print()\n",
    "forecastResponse = forecastquery.query_forecast(\n",
    "    ForecastArn=forecast_arn,\n",
    "    Filters={\"item_id\":\"client_37\"}\n",
    ")\n",
    "print(forecastResponse)"
   ]
  },
  {
   "cell_type": "code",
   "execution_count": 235,
   "metadata": {},
   "outputs": [
    {
     "data": {
      "text/html": [
       "<div>\n",
       "<style scoped>\n",
       "    .dataframe tbody tr th:only-of-type {\n",
       "        vertical-align: middle;\n",
       "    }\n",
       "\n",
       "    .dataframe tbody tr th {\n",
       "        vertical-align: top;\n",
       "    }\n",
       "\n",
       "    .dataframe thead th {\n",
       "        text-align: right;\n",
       "    }\n",
       "</style>\n",
       "<table border=\"1\" class=\"dataframe\">\n",
       "  <thead>\n",
       "    <tr style=\"text-align: right;\">\n",
       "      <th></th>\n",
       "      <th>timestamp</th>\n",
       "      <th>value</th>\n",
       "      <th>item_id</th>\n",
       "    </tr>\n",
       "  </thead>\n",
       "  <tbody>\n",
       "    <tr>\n",
       "      <th>0</th>\n",
       "      <td>2014-01-12 11:00:00</td>\n",
       "      <td>40.290433</td>\n",
       "      <td>client_15</td>\n",
       "    </tr>\n",
       "    <tr>\n",
       "      <th>1</th>\n",
       "      <td>2014-02-03 02:00:00</td>\n",
       "      <td>538.632353</td>\n",
       "      <td>client_297</td>\n",
       "    </tr>\n",
       "    <tr>\n",
       "      <th>2</th>\n",
       "      <td>2014-02-12 20:00:00</td>\n",
       "      <td>3093.881857</td>\n",
       "      <td>client_362</td>\n",
       "    </tr>\n",
       "    <tr>\n",
       "      <th>3</th>\n",
       "      <td>2014-01-14 09:00:00</td>\n",
       "      <td>11.643119</td>\n",
       "      <td>client_47</td>\n",
       "    </tr>\n",
       "    <tr>\n",
       "      <th>4</th>\n",
       "      <td>2014-02-23 05:00:00</td>\n",
       "      <td>41.696137</td>\n",
       "      <td>client_314</td>\n",
       "    </tr>\n",
       "  </tbody>\n",
       "</table>\n",
       "</div>"
      ],
      "text/plain": [
       "             timestamp        value     item_id\n",
       "0  2014-01-12 11:00:00    40.290433   client_15\n",
       "1  2014-02-03 02:00:00   538.632353  client_297\n",
       "2  2014-02-12 20:00:00  3093.881857  client_362\n",
       "3  2014-01-14 09:00:00    11.643119   client_47\n",
       "4  2014-02-23 05:00:00    41.696137  client_314"
      ]
     },
     "execution_count": 235,
     "metadata": {},
     "output_type": "execute_result"
    }
   ],
   "source": [
    "actual_df_new = pd.read_csv(\"aiservices-test.csv\", names=['timestamp','value','item_id'])\n",
    "actual_df_new.head()"
   ]
  },
  {
   "cell_type": "code",
   "execution_count": 243,
   "metadata": {},
   "outputs": [],
   "source": [
    "actual_df_new = actual_df_new[(actual_df_new['timestamp'] >= '2014-01-01') & (actual_df_new['timestamp'] < '2015-03-02')]"
   ]
  },
  {
   "cell_type": "code",
   "execution_count": 244,
   "metadata": {},
   "outputs": [],
   "source": [
    "actual_df_new = actual_df_new[(actual_df_new['item_id'] == 'client_37')]\n"
   ]
  },
  {
   "cell_type": "code",
   "execution_count": 245,
   "metadata": {},
   "outputs": [
    {
     "data": {
      "text/html": [
       "<div>\n",
       "<style scoped>\n",
       "    .dataframe tbody tr th:only-of-type {\n",
       "        vertical-align: middle;\n",
       "    }\n",
       "\n",
       "    .dataframe tbody tr th {\n",
       "        vertical-align: top;\n",
       "    }\n",
       "\n",
       "    .dataframe thead th {\n",
       "        text-align: right;\n",
       "    }\n",
       "</style>\n",
       "<table border=\"1\" class=\"dataframe\">\n",
       "  <thead>\n",
       "    <tr style=\"text-align: right;\">\n",
       "      <th></th>\n",
       "      <th>timestamp</th>\n",
       "      <th>value</th>\n",
       "      <th>item_id</th>\n",
       "    </tr>\n",
       "  </thead>\n",
       "  <tbody>\n",
       "    <tr>\n",
       "      <th>364</th>\n",
       "      <td>2014-01-04 05:00:00</td>\n",
       "      <td>95.876963</td>\n",
       "      <td>client_37</td>\n",
       "    </tr>\n",
       "    <tr>\n",
       "      <th>1077</th>\n",
       "      <td>2014-02-22 01:00:00</td>\n",
       "      <td>90.968586</td>\n",
       "      <td>client_37</td>\n",
       "    </tr>\n",
       "    <tr>\n",
       "      <th>1145</th>\n",
       "      <td>2014-01-23 13:00:00</td>\n",
       "      <td>166.230366</td>\n",
       "      <td>client_37</td>\n",
       "    </tr>\n",
       "    <tr>\n",
       "      <th>1250</th>\n",
       "      <td>2014-01-14 19:00:00</td>\n",
       "      <td>163.612565</td>\n",
       "      <td>client_37</td>\n",
       "    </tr>\n",
       "    <tr>\n",
       "      <th>1401</th>\n",
       "      <td>2014-01-02 07:00:00</td>\n",
       "      <td>108.311518</td>\n",
       "      <td>client_37</td>\n",
       "    </tr>\n",
       "  </tbody>\n",
       "</table>\n",
       "</div>"
      ],
      "text/plain": [
       "                timestamp       value    item_id\n",
       "364   2014-01-04 05:00:00   95.876963  client_37\n",
       "1077  2014-02-22 01:00:00   90.968586  client_37\n",
       "1145  2014-01-23 13:00:00  166.230366  client_37\n",
       "1250  2014-01-14 19:00:00  163.612565  client_37\n",
       "1401  2014-01-02 07:00:00  108.311518  client_37"
      ]
     },
     "execution_count": 245,
     "metadata": {},
     "output_type": "execute_result"
    }
   ],
   "source": [
    "actual_df_new.head()"
   ]
  },
  {
   "cell_type": "code",
   "execution_count": 246,
   "metadata": {},
   "outputs": [
    {
     "data": {
      "text/html": [
       "<div>\n",
       "<style scoped>\n",
       "    .dataframe tbody tr th:only-of-type {\n",
       "        vertical-align: middle;\n",
       "    }\n",
       "\n",
       "    .dataframe tbody tr th {\n",
       "        vertical-align: top;\n",
       "    }\n",
       "\n",
       "    .dataframe thead th {\n",
       "        text-align: right;\n",
       "    }\n",
       "</style>\n",
       "<table border=\"1\" class=\"dataframe\">\n",
       "  <thead>\n",
       "    <tr style=\"text-align: right;\">\n",
       "      <th></th>\n",
       "      <th>Timestamp</th>\n",
       "      <th>Value</th>\n",
       "    </tr>\n",
       "  </thead>\n",
       "  <tbody>\n",
       "    <tr>\n",
       "      <th>0</th>\n",
       "      <td>2014-03-01T01:00:00</td>\n",
       "      <td>2.010899</td>\n",
       "    </tr>\n",
       "    <tr>\n",
       "      <th>1</th>\n",
       "      <td>2014-03-01T02:00:00</td>\n",
       "      <td>22.140839</td>\n",
       "    </tr>\n",
       "    <tr>\n",
       "      <th>2</th>\n",
       "      <td>2014-03-01T03:00:00</td>\n",
       "      <td>12.109325</td>\n",
       "    </tr>\n",
       "    <tr>\n",
       "      <th>3</th>\n",
       "      <td>2014-03-01T04:00:00</td>\n",
       "      <td>6.897163</td>\n",
       "    </tr>\n",
       "    <tr>\n",
       "      <th>4</th>\n",
       "      <td>2014-03-01T05:00:00</td>\n",
       "      <td>17.944035</td>\n",
       "    </tr>\n",
       "  </tbody>\n",
       "</table>\n",
       "</div>"
      ],
      "text/plain": [
       "             Timestamp      Value\n",
       "0  2014-03-01T01:00:00   2.010899\n",
       "1  2014-03-01T02:00:00  22.140839\n",
       "2  2014-03-01T03:00:00  12.109325\n",
       "3  2014-03-01T04:00:00   6.897163\n",
       "4  2014-03-01T05:00:00  17.944035"
      ]
     },
     "execution_count": 246,
     "metadata": {},
     "output_type": "execute_result"
    }
   ],
   "source": [
    "pred_df_p10 = pd.DataFrame.from_dict(forecastResponse['Forecast']['Predictions']['p10'])\n",
    "pred_df_p10.head()"
   ]
  },
  {
   "cell_type": "code",
   "execution_count": 247,
   "metadata": {},
   "outputs": [
    {
     "data": {
      "text/plain": [
       "<matplotlib.axes._subplots.AxesSubplot at 0x2b511cb8>"
      ]
     },
     "execution_count": 247,
     "metadata": {},
     "output_type": "execute_result"
    },
    {
     "data": {
      "image/png": "[encoded data removed]",
      "text/plain": [
       "<Figure size 432x288 with 1 Axes>"
      ]
     },
     "metadata": {
      "needs_background": "light"
     },
     "output_type": "display_data"
    }
   ],
   "source": [
    "pred_df_p10.plot()"
   ]
  },
  {
   "cell_type": "code",
   "execution_count": 248,
   "metadata": {},
   "outputs": [],
   "source": [
    "pred_df_p50 = pd.DataFrame.from_dict(forecastResponse['Forecast']['Predictions']['p50'])\n",
    "pred_df_p90 = pd.DataFrame.from_dict(forecastResponse['Forecast']['Predictions']['p90'])"
   ]
  },
  {
   "cell_type": "code",
   "execution_count": 249,
   "metadata": {},
   "outputs": [],
   "source": [
    "results_df_new = pd.DataFrame(columns=['timestamp', 'value', 'source'])"
   ]
  },
  {
   "cell_type": "code",
   "execution_count": 250,
   "metadata": {},
   "outputs": [],
   "source": [
    "import dateutil.parser\n",
    "for index, row in actual_df_new.iterrows():\n",
    "    clean_timestamp = dateutil.parser.parse(row['timestamp'])\n",
    "    results_df_new  = results_df_new.append({'timestamp' : clean_timestamp , 'value' : row['value'], 'source': 'actual'} , ignore_index=True)"
   ]
  },
  {
   "cell_type": "code",
   "execution_count": 251,
   "metadata": {},
   "outputs": [
    {
     "data": {
      "text/html": [
       "<div>\n",
       "<style scoped>\n",
       "    .dataframe tbody tr th:only-of-type {\n",
       "        vertical-align: middle;\n",
       "    }\n",
       "\n",
       "    .dataframe tbody tr th {\n",
       "        vertical-align: top;\n",
       "    }\n",
       "\n",
       "    .dataframe thead th {\n",
       "        text-align: right;\n",
       "    }\n",
       "</style>\n",
       "<table border=\"1\" class=\"dataframe\">\n",
       "  <thead>\n",
       "    <tr style=\"text-align: right;\">\n",
       "      <th></th>\n",
       "      <th>timestamp</th>\n",
       "      <th>value</th>\n",
       "      <th>source</th>\n",
       "    </tr>\n",
       "  </thead>\n",
       "  <tbody>\n",
       "    <tr>\n",
       "      <th>0</th>\n",
       "      <td>2014-01-04 05:00:00</td>\n",
       "      <td>95.876963</td>\n",
       "      <td>actual</td>\n",
       "    </tr>\n",
       "    <tr>\n",
       "      <th>1</th>\n",
       "      <td>2014-02-22 01:00:00</td>\n",
       "      <td>90.968586</td>\n",
       "      <td>actual</td>\n",
       "    </tr>\n",
       "    <tr>\n",
       "      <th>2</th>\n",
       "      <td>2014-01-23 13:00:00</td>\n",
       "      <td>166.230366</td>\n",
       "      <td>actual</td>\n",
       "    </tr>\n",
       "    <tr>\n",
       "      <th>3</th>\n",
       "      <td>2014-01-14 19:00:00</td>\n",
       "      <td>163.612565</td>\n",
       "      <td>actual</td>\n",
       "    </tr>\n",
       "    <tr>\n",
       "      <th>4</th>\n",
       "      <td>2014-01-02 07:00:00</td>\n",
       "      <td>108.311518</td>\n",
       "      <td>actual</td>\n",
       "    </tr>\n",
       "  </tbody>\n",
       "</table>\n",
       "</div>"
      ],
      "text/plain": [
       "            timestamp       value  source\n",
       "0 2014-01-04 05:00:00   95.876963  actual\n",
       "1 2014-02-22 01:00:00   90.968586  actual\n",
       "2 2014-01-23 13:00:00  166.230366  actual\n",
       "3 2014-01-14 19:00:00  163.612565  actual\n",
       "4 2014-01-02 07:00:00  108.311518  actual"
      ]
     },
     "execution_count": 251,
     "metadata": {},
     "output_type": "execute_result"
    }
   ],
   "source": [
    "results_df_new.head()"
   ]
  },
  {
   "cell_type": "code",
   "execution_count": 252,
   "metadata": {},
   "outputs": [],
   "source": [
    "# Now add the P10, P50, and P90 Values\n",
    "for index, row in pred_df_p10.iterrows():\n",
    "    clean_timestamp = dateutil.parser.parse(row['Timestamp'])\n",
    "    results_df = results_df_new.append({'timestamp' : clean_timestamp , 'value' : row['Value'], 'source': 'p10'} , ignore_index=True)\n",
    "for index, row in pred_df_p50.iterrows():\n",
    "    clean_timestamp = dateutil.parser.parse(row['Timestamp'])\n",
    "    results_df = results_df_new.append({'timestamp' : clean_timestamp , 'value' : row['Value'], 'source': 'p50'} , ignore_index=True)\n",
    "for index, row in pred_df_p90.iterrows():\n",
    "    clean_timestamp = dateutil.parser.parse(row['Timestamp'])\n",
    "    results_df = results_df_new.append({'timestamp' : clean_timestamp , 'value' : row['Value'], 'source': 'p90'} , ignore_index=True)"
   ]
  },
  {
   "cell_type": "code",
   "execution_count": 253,
   "metadata": {},
   "outputs": [
    {
     "data": {
      "text/html": [
       "<div>\n",
       "<style scoped>\n",
       "    .dataframe tbody tr th:only-of-type {\n",
       "        vertical-align: middle;\n",
       "    }\n",
       "\n",
       "    .dataframe tbody tr th {\n",
       "        vertical-align: top;\n",
       "    }\n",
       "\n",
       "    .dataframe thead th {\n",
       "        text-align: right;\n",
       "    }\n",
       "</style>\n",
       "<table border=\"1\" class=\"dataframe\">\n",
       "  <thead>\n",
       "    <tr style=\"text-align: right;\">\n",
       "      <th>source</th>\n",
       "      <th>actual</th>\n",
       "    </tr>\n",
       "    <tr>\n",
       "      <th>timestamp</th>\n",
       "      <th></th>\n",
       "    </tr>\n",
       "  </thead>\n",
       "  <tbody>\n",
       "    <tr>\n",
       "      <th>2014-01-01 05:00:00</th>\n",
       "      <td>85.078534</td>\n",
       "    </tr>\n",
       "    <tr>\n",
       "      <th>2014-01-01 14:00:00</th>\n",
       "      <td>103.403141</td>\n",
       "    </tr>\n",
       "    <tr>\n",
       "      <th>2014-01-01 15:00:00</th>\n",
       "      <td>95.876963</td>\n",
       "    </tr>\n",
       "    <tr>\n",
       "      <th>2014-01-01 16:00:00</th>\n",
       "      <td>99.149215</td>\n",
       "    </tr>\n",
       "    <tr>\n",
       "      <th>2014-01-01 23:00:00</th>\n",
       "      <td>136.780105</td>\n",
       "    </tr>\n",
       "    <tr>\n",
       "      <th>...</th>\n",
       "      <td>...</td>\n",
       "    </tr>\n",
       "    <tr>\n",
       "      <th>2014-02-28 18:00:00</th>\n",
       "      <td>153.795812</td>\n",
       "    </tr>\n",
       "    <tr>\n",
       "      <th>2014-02-28 19:00:00</th>\n",
       "      <td>156.086387</td>\n",
       "    </tr>\n",
       "    <tr>\n",
       "      <th>2014-02-28 21:00:00</th>\n",
       "      <td>147.905759</td>\n",
       "    </tr>\n",
       "    <tr>\n",
       "      <th>2014-02-28 23:00:00</th>\n",
       "      <td>130.235602</td>\n",
       "    </tr>\n",
       "    <tr>\n",
       "      <th>2014-03-01 00:00:00</th>\n",
       "      <td>114.856021</td>\n",
       "    </tr>\n",
       "  </tbody>\n",
       "</table>\n",
       "<p>402 rows × 1 columns</p>\n",
       "</div>"
      ],
      "text/plain": [
       "source                   actual\n",
       "timestamp                      \n",
       "2014-01-01 05:00:00   85.078534\n",
       "2014-01-01 14:00:00  103.403141\n",
       "2014-01-01 15:00:00   95.876963\n",
       "2014-01-01 16:00:00   99.149215\n",
       "2014-01-01 23:00:00  136.780105\n",
       "...                         ...\n",
       "2014-02-28 18:00:00  153.795812\n",
       "2014-02-28 19:00:00  156.086387\n",
       "2014-02-28 21:00:00  147.905759\n",
       "2014-02-28 23:00:00  130.235602\n",
       "2014-03-01 00:00:00  114.856021\n",
       "\n",
       "[402 rows x 1 columns]"
      ]
     },
     "execution_count": 253,
     "metadata": {},
     "output_type": "execute_result"
    }
   ],
   "source": [
    "pivot_df_new = results_df_new.pivot(columns='source', values='value', index=\"timestamp\")\n",
    "\n",
    "pivot_df_new"
   ]
  },
  {
   "cell_type": "code",
   "execution_count": 254,
   "metadata": {},
   "outputs": [
    {
     "data": {
      "text/plain": [
       "<matplotlib.axes._subplots.AxesSubplot at 0x2b315d78>"
      ]
     },
     "execution_count": 254,
     "metadata": {},
     "output_type": "execute_result"
    },
    {
     "data": {
      "image/png": "[encoded data removed]",
      "text/plain": [
       "<Figure size 432x288 with 1 Axes>"
      ]
     },
     "metadata": {
      "needs_background": "light"
     },
     "output_type": "display_data"
    }
   ],
   "source": [
    "pivot_df_new.plot()"
   ]
  },
  {
   "cell_type": "code",
   "execution_count": 255,
   "metadata": {},
   "outputs": [
    {
     "data": {
      "text/plain": [
       "{'ResponseMetadata': {'RequestId': 'ce44c2dc-fe98-45c4-a413-2e366f785d3f',\n",
       "  'HTTPStatusCode': 200,\n",
       "  'HTTPHeaders': {'content-type': 'application/x-amz-json-1.1',\n",
       "   'date': 'Sat, 02 May 2020 22:42:40 GMT',\n",
       "   'x-amzn-requestid': 'ce44c2dc-fe98-45c4-a413-2e366f785d3f',\n",
       "   'content-length': '0',\n",
       "   'connection': 'keep-alive'},\n",
       "  'RetryAttempts': 0}}"
      ]
     },
     "execution_count": 255,
     "metadata": {},
     "output_type": "execute_result"
    }
   ],
   "source": [
    "forecast.delete_forecast(ForecastArn=forecast_arn)"
   ]
  },
  {
   "cell_type": "code",
   "execution_count": 144,
   "metadata": {},
   "outputs": [
    {
     "data": {
      "text/plain": [
       "{'ResponseMetadata': {'RequestId': '83fb629c-d9b5-4a85-91f9-2fd7f7a4fa66',\n",
       "  'HTTPStatusCode': 200,\n",
       "  'HTTPHeaders': {'content-type': 'application/x-amz-json-1.1',\n",
       "   'date': 'Sat, 02 May 2020 21:16:29 GMT',\n",
       "   'x-amzn-requestid': '83fb629c-d9b5-4a85-91f9-2fd7f7a4fa66',\n",
       "   'content-length': '0',\n",
       "   'connection': 'keep-alive'},\n",
       "  'RetryAttempts': 0}}"
      ]
     },
     "execution_count": 144,
     "metadata": {},
     "output_type": "execute_result"
    }
   ],
   "source": [
    "forecast.delete_predictor(PredictorArn=predictor_arn)"
   ]
  },
  {
   "cell_type": "code",
   "execution_count": 146,
   "metadata": {},
   "outputs": [
    {
     "data": {
      "text/plain": [
       "{'ResponseMetadata': {'RequestId': 'bdfbdb9e-a6cc-4e7d-b4ab-fef0a2761124',\n",
       "  'HTTPStatusCode': 200,\n",
       "  'HTTPHeaders': {'content-type': 'application/x-amz-json-1.1',\n",
       "   'date': 'Sat, 02 May 2020 21:16:56 GMT',\n",
       "   'x-amzn-requestid': 'bdfbdb9e-a6cc-4e7d-b4ab-fef0a2761124',\n",
       "   'content-length': '0',\n",
       "   'connection': 'keep-alive'},\n",
       "  'RetryAttempts': 0}}"
      ]
     },
     "execution_count": 146,
     "metadata": {},
     "output_type": "execute_result"
    }
   ],
   "source": [
    "forecast.delete_dataset_import_job(DatasetImportJobArn=ds_import_job_arn)"
   ]
  },
  {
   "cell_type": "code",
   "execution_count": 149,
   "metadata": {},
   "outputs": [
    {
     "data": {
      "text/plain": [
       "{'ResponseMetadata': {'RequestId': '38f5de29-759a-46ec-89dd-11e82d9dbaa1',\n",
       "  'HTTPStatusCode': 200,\n",
       "  'HTTPHeaders': {'content-type': 'application/x-amz-json-1.1',\n",
       "   'date': 'Sat, 02 May 2020 21:17:10 GMT',\n",
       "   'x-amzn-requestid': '38f5de29-759a-46ec-89dd-11e82d9dbaa1',\n",
       "   'content-length': '0',\n",
       "   'connection': 'keep-alive'},\n",
       "  'RetryAttempts': 0}}"
      ]
     },
     "execution_count": 149,
     "metadata": {},
     "output_type": "execute_result"
    }
   ],
   "source": [
    "forecast.delete_dataset(DatasetArn=datasetArn)"
   ]
  },
  {
   "cell_type": "code",
   "execution_count": 150,
   "metadata": {},
   "outputs": [
    {
     "data": {
      "text/plain": [
       "{'ResponseMetadata': {'RequestId': 'e0db8ab6-99a7-49db-9293-d8f6736f8339',\n",
       "  'HTTPStatusCode': 200,\n",
       "  'HTTPHeaders': {'content-type': 'application/x-amz-json-1.1',\n",
       "   'date': 'Sat, 02 May 2020 21:17:16 GMT',\n",
       "   'x-amzn-requestid': 'e0db8ab6-99a7-49db-9293-d8f6736f8339',\n",
       "   'content-length': '0',\n",
       "   'connection': 'keep-alive'},\n",
       "  'RetryAttempts': 0}}"
      ]
     },
     "execution_count": 150,
     "metadata": {},
     "output_type": "execute_result"
    }
   ],
   "source": [
    "forecast.delete_dataset_group(DatasetGroupArn=datasetGroupArn)"
   ]
  },
  {
   "cell_type": "code",
   "execution_count": 151,
   "metadata": {},
   "outputs": [
    {
     "data": {
      "text/plain": [
       "{'ResponseMetadata': {'RequestId': 'BFD0B30DA63731A5',\n",
       "  'HostId': 'M/Yb/mmYuVd87G+CbJnlqmUwt1L+jatbovH+zPHZJl5B4N7MJquv+CizlqtmWiWcUYtmXaCxiIg=',\n",
       "  'HTTPStatusCode': 204,\n",
       "  'HTTPHeaders': {'x-amz-id-2': 'M/Yb/mmYuVd87G+CbJnlqmUwt1L+jatbovH+zPHZJl5B4N7MJquv+CizlqtmWiWcUYtmXaCxiIg=',\n",
       "   'x-amz-request-id': 'BFD0B30DA63731A5',\n",
       "   'date': 'Sat, 02 May 2020 21:17:25 GMT',\n",
       "   'server': 'AmazonS3'},\n",
       "  'RetryAttempts': 1}}"
      ]
     },
     "execution_count": 151,
     "metadata": {},
     "output_type": "execute_result"
    }
   ],
   "source": [
    "boto3.Session().resource('s3').Bucket(bucket_name).Object(key).delete()"
   ]
  },
  {
   "cell_type": "code",
   "execution_count": null,
   "metadata": {},
   "outputs": [],
   "source": []
  }
 ],
 "metadata": {
  "kernelspec": {
   "display_name": "Python 3",
   "language": "python",
   "name": "python3"
  },
  "language_info": {
   "codemirror_mode": {
    "name": "ipython",
    "version": 3
   },
   "file_extension": ".py",
   "mimetype": "text/x-python",
   "name": "python",
   "nbconvert_exporter": "python",
   "pygments_lexer": "ipython3",
   "version": "3.8.1"
  }
 },
 "nbformat": 4,
 "nbformat_minor": 4
}
